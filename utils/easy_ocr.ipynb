{
 "cells": [
  {
   "cell_type": "markdown",
   "id": "eabfb2ed",
   "metadata": {},
   "source": [
    "Use vietocr conda env for this."
   ]
  },
  {
   "cell_type": "markdown",
   "id": "80693594",
   "metadata": {},
   "source": [
    "# Define data/result directory"
   ]
  },
  {
   "cell_type": "code",
   "execution_count": 15,
   "id": "04875590",
   "metadata": {},
   "outputs": [],
   "source": [
    "import os\n",
    "\n",
    "data_folder = \"../data\"\n",
    "result_folder = \"../results\"\n",
    "manga_list = \"vi/Ruri Dragon (Oneshot)/Ch. None\"  # Will be changed to list later\n",
    "\n",
    "# Ruri Dragon\n",
    "manga_folder = os.path.join(data_folder, manga_list)\n",
    "\n",
    "individual_result_folder = os.path.join(result_folder, manga_list)\n",
    "json_output_dir = os.path.join(individual_result_folder, \"json_results\")\n",
    "result_image_output_dir = os.path.join(individual_result_folder, \"image_results\")\n",
    "\n",
    "cut_texts_dir = os.path.join(individual_result_folder, \"cut_texts\")\n",
    "\n",
    "raw_images = os.listdir(manga_folder)\n",
    "json_files = os.listdir(json_output_dir)\n",
    "easy_ocr_result_dir = os.path.join(individual_result_folder, \"easy_ocr_result\")\n",
    "os.makedirs(easy_ocr_result_dir, exist_ok=True)"
   ]
  },
  {
   "cell_type": "markdown",
   "id": "b6bc9a07",
   "metadata": {},
   "source": [
    "# Initialize model"
   ]
  },
  {
   "cell_type": "code",
   "execution_count": null,
   "id": "32991987",
   "metadata": {},
   "outputs": [
    {
     "name": "stderr",
     "output_type": "stream",
     "text": [
      "d:\\miniconda3\\envs\\vietocr\\lib\\site-packages\\torch\\nn\\modules\\transformer.py:392: UserWarning: enable_nested_tensor is True, but self.use_nested_tensor is False because encoder_layer.self_attn.batch_first was not True(use batch_first for better inference performance)\n",
      "  warnings.warn(\n"
     ]
    }
   ],
   "source": [
    "import easyocr\n",
    "\n",
    "# Initialize EasyOCR (Vietnamese)\n",
    "reader = easyocr.Reader([\"vi\"])"
   ]
  },
  {
   "cell_type": "markdown",
   "id": "76af9e8a",
   "metadata": {},
   "source": [
    "# Predict"
   ]
  },
  {
   "cell_type": "code",
   "execution_count": null,
   "id": "e949b7cb",
   "metadata": {},
   "outputs": [
    {
     "name": "stdout",
     "output_type": "stream",
     "text": [
      "⚠️ No cut_texts found for 00.json, skipping...\n",
      "✅ Saved EasyOCR result for 01.json → ../results\\vi/Ruri Dragon (Oneshot)/Ch. None\\easy_ocr_viet_ocr_result\\01.json\n",
      "✅ Saved EasyOCR result for 02.json → ../results\\vi/Ruri Dragon (Oneshot)/Ch. None\\easy_ocr_viet_ocr_result\\02.json\n",
      "✅ Saved EasyOCR result for 03.json → ../results\\vi/Ruri Dragon (Oneshot)/Ch. None\\easy_ocr_viet_ocr_result\\03.json\n",
      "✅ Saved EasyOCR result for 04.json → ../results\\vi/Ruri Dragon (Oneshot)/Ch. None\\easy_ocr_viet_ocr_result\\04.json\n",
      "✅ Saved EasyOCR result for 05.json → ../results\\vi/Ruri Dragon (Oneshot)/Ch. None\\easy_ocr_viet_ocr_result\\05.json\n",
      "✅ Saved EasyOCR result for 06.json → ../results\\vi/Ruri Dragon (Oneshot)/Ch. None\\easy_ocr_viet_ocr_result\\06.json\n",
      "✅ Saved EasyOCR result for 07.json → ../results\\vi/Ruri Dragon (Oneshot)/Ch. None\\easy_ocr_viet_ocr_result\\07.json\n",
      "✅ Saved EasyOCR result for 08.json → ../results\\vi/Ruri Dragon (Oneshot)/Ch. None\\easy_ocr_viet_ocr_result\\08.json\n",
      "✅ Saved EasyOCR result for 09.json → ../results\\vi/Ruri Dragon (Oneshot)/Ch. None\\easy_ocr_viet_ocr_result\\09.json\n",
      "✅ Saved EasyOCR result for 10.json → ../results\\vi/Ruri Dragon (Oneshot)/Ch. None\\easy_ocr_viet_ocr_result\\10.json\n",
      "✅ Saved EasyOCR result for 11.json → ../results\\vi/Ruri Dragon (Oneshot)/Ch. None\\easy_ocr_viet_ocr_result\\11.json\n",
      "✅ Saved EasyOCR result for 12.json → ../results\\vi/Ruri Dragon (Oneshot)/Ch. None\\easy_ocr_viet_ocr_result\\12.json\n",
      "✅ Saved EasyOCR result for 13.json → ../results\\vi/Ruri Dragon (Oneshot)/Ch. None\\easy_ocr_viet_ocr_result\\13.json\n",
      "✅ Saved EasyOCR result for 14.json → ../results\\vi/Ruri Dragon (Oneshot)/Ch. None\\easy_ocr_viet_ocr_result\\14.json\n",
      "✅ Saved EasyOCR result for 15.json → ../results\\vi/Ruri Dragon (Oneshot)/Ch. None\\easy_ocr_viet_ocr_result\\15.json\n",
      "✅ Saved EasyOCR result for 16.json → ../results\\vi/Ruri Dragon (Oneshot)/Ch. None\\easy_ocr_viet_ocr_result\\16.json\n",
      "✅ Saved EasyOCR result for 17.json → ../results\\vi/Ruri Dragon (Oneshot)/Ch. None\\easy_ocr_viet_ocr_result\\17.json\n",
      "✅ Saved EasyOCR result for 18.json → ../results\\vi/Ruri Dragon (Oneshot)/Ch. None\\easy_ocr_viet_ocr_result\\18.json\n",
      "✅ Saved EasyOCR result for 19.json → ../results\\vi/Ruri Dragon (Oneshot)/Ch. None\\easy_ocr_viet_ocr_result\\19.json\n",
      "✅ Saved EasyOCR result for 20.json → ../results\\vi/Ruri Dragon (Oneshot)/Ch. None\\easy_ocr_viet_ocr_result\\20.json\n",
      "✅ Saved EasyOCR result for 21.json → ../results\\vi/Ruri Dragon (Oneshot)/Ch. None\\easy_ocr_viet_ocr_result\\21.json\n",
      "✅ Saved EasyOCR result for 22.json → ../results\\vi/Ruri Dragon (Oneshot)/Ch. None\\easy_ocr_viet_ocr_result\\22.json\n",
      "✅ Saved EasyOCR result for 23.json → ../results\\vi/Ruri Dragon (Oneshot)/Ch. None\\easy_ocr_viet_ocr_result\\23.json\n",
      "✅ Saved EasyOCR result for 24.json → ../results\\vi/Ruri Dragon (Oneshot)/Ch. None\\easy_ocr_viet_ocr_result\\24.json\n",
      "✅ Saved EasyOCR result for 25.json → ../results\\vi/Ruri Dragon (Oneshot)/Ch. None\\easy_ocr_viet_ocr_result\\25.json\n",
      "✅ Saved EasyOCR result for 26.json → ../results\\vi/Ruri Dragon (Oneshot)/Ch. None\\easy_ocr_viet_ocr_result\\26.json\n",
      "✅ Saved EasyOCR result for 27.json → ../results\\vi/Ruri Dragon (Oneshot)/Ch. None\\easy_ocr_viet_ocr_result\\27.json\n",
      "✅ Saved EasyOCR result for 28.json → ../results\\vi/Ruri Dragon (Oneshot)/Ch. None\\easy_ocr_viet_ocr_result\\28.json\n",
      "✅ Saved EasyOCR result for 29.json → ../results\\vi/Ruri Dragon (Oneshot)/Ch. None\\easy_ocr_viet_ocr_result\\29.json\n",
      "✅ Saved EasyOCR result for 30.json → ../results\\vi/Ruri Dragon (Oneshot)/Ch. None\\easy_ocr_viet_ocr_result\\30.json\n",
      "✅ Saved EasyOCR result for 31.json → ../results\\vi/Ruri Dragon (Oneshot)/Ch. None\\easy_ocr_viet_ocr_result\\31.json\n",
      "✅ Saved EasyOCR result for 32.json → ../results\\vi/Ruri Dragon (Oneshot)/Ch. None\\easy_ocr_viet_ocr_result\\32.json\n",
      "✅ Saved EasyOCR result for 33.json → ../results\\vi/Ruri Dragon (Oneshot)/Ch. None\\easy_ocr_viet_ocr_result\\33.json\n",
      "✅ Saved EasyOCR result for 34.json → ../results\\vi/Ruri Dragon (Oneshot)/Ch. None\\easy_ocr_viet_ocr_result\\34.json\n",
      "✅ Saved EasyOCR result for 35.json → ../results\\vi/Ruri Dragon (Oneshot)/Ch. None\\easy_ocr_viet_ocr_result\\35.json\n",
      "✅ Saved EasyOCR result for 36.json → ../results\\vi/Ruri Dragon (Oneshot)/Ch. None\\easy_ocr_viet_ocr_result\\36.json\n",
      "✅ Saved EasyOCR result for 37.json → ../results\\vi/Ruri Dragon (Oneshot)/Ch. None\\easy_ocr_viet_ocr_result\\37.json\n",
      "✅ Saved EasyOCR result for 38.json → ../results\\vi/Ruri Dragon (Oneshot)/Ch. None\\easy_ocr_viet_ocr_result\\38.json\n",
      "✅ Saved EasyOCR result for 39.json → ../results\\vi/Ruri Dragon (Oneshot)/Ch. None\\easy_ocr_viet_ocr_result\\39.json\n",
      "✅ Saved EasyOCR result for 40.json → ../results\\vi/Ruri Dragon (Oneshot)/Ch. None\\easy_ocr_viet_ocr_result\\40.json\n",
      "✅ Saved EasyOCR result for 41.json → ../results\\vi/Ruri Dragon (Oneshot)/Ch. None\\easy_ocr_viet_ocr_result\\41.json\n",
      "✅ Saved EasyOCR result for 42.json → ../results\\vi/Ruri Dragon (Oneshot)/Ch. None\\easy_ocr_viet_ocr_result\\42.json\n",
      "✅ Saved EasyOCR result for 43.json → ../results\\vi/Ruri Dragon (Oneshot)/Ch. None\\easy_ocr_viet_ocr_result\\43.json\n",
      "✅ Saved EasyOCR result for 44.json → ../results\\vi/Ruri Dragon (Oneshot)/Ch. None\\easy_ocr_viet_ocr_result\\44.json\n"
     ]
    }
   ],
   "source": [
    "import os\n",
    "import json\n",
    "from PIL import Image\n",
    "\n",
    "for json_file in json_files:\n",
    "    if not json_file.endswith(\".json\"):\n",
    "        continue\n",
    "\n",
    "    base_name = os.path.splitext(json_file)[0]\n",
    "    json_path = os.path.join(json_output_dir, json_file)\n",
    "    cut_page_dir = os.path.join(cut_texts_dir, base_name)\n",
    "\n",
    "    # skip if cut_texts folder doesn't exist\n",
    "    if not os.path.exists(cut_page_dir):\n",
    "        print(f\"⚠️ No cut_texts found for {json_file}, skipping...\")\n",
    "        continue\n",
    "\n",
    "    # load json\n",
    "    with open(json_path, \"r\", encoding=\"utf-8\") as f:\n",
    "        data = json.load(f)\n",
    "\n",
    "    new_ocr = []\n",
    "    for idx, (bbox, is_essential) in enumerate(\n",
    "        zip(data[\"texts\"], data[\"is_essential_text\"])\n",
    "    ):\n",
    "        if not is_essential:\n",
    "            # keep placeholder (so indexes align)\n",
    "            new_ocr.append(data[\"ocr\"][idx])\n",
    "            continue\n",
    "\n",
    "        cut_img_path = os.path.join(cut_page_dir, f\"{base_name}_{idx:03}.png\")\n",
    "        if not os.path.exists(cut_img_path):\n",
    "            print(f\"⚠️ Missing cut image {cut_img_path}, keeping original OCR.\")\n",
    "            new_ocr.append(data[\"ocr\"][idx])\n",
    "            continue\n",
    "\n",
    "        img = Image.open(cut_img_path).convert(\"RGB\")  # EasyOCR works better in RGB\n",
    "        try:\n",
    "            results = reader.readtext(\n",
    "                cut_img_path, detail=0, paragraph=True\n",
    "            )  # returns only text\n",
    "            vi_text = results[0] if results else data[\"ocr\"][idx]  # fallback if empty\n",
    "        except Exception as e:\n",
    "            print(f\"❌ OCR failed for {cut_img_path}: {e}\")\n",
    "            vi_text = data[\"ocr\"][idx]  # fallback to original\n",
    "        new_ocr.append(vi_text)\n",
    "\n",
    "    # replace OCR field\n",
    "    data[\"ocr\"] = new_ocr\n",
    "\n",
    "    # save to easy_ocr_result\n",
    "    out_path = os.path.join(easy_ocr_result_dir, json_file)\n",
    "    with open(out_path, \"w\", encoding=\"utf-8\") as f:\n",
    "        json.dump(data, f, ensure_ascii=False, indent=4)\n",
    "\n",
    "    print(f\"✅ Saved EasyOCR result for {json_file} → {out_path}\")"
   ]
  },
  {
   "cell_type": "markdown",
   "id": "5de01bac",
   "metadata": {},
   "source": [
    "Individual test"
   ]
  },
  {
   "cell_type": "code",
   "execution_count": 17,
   "id": "4cccc46f",
   "metadata": {},
   "outputs": [
    {
     "name": "stdout",
     "output_type": "stream",
     "text": [
      "03_006.png: ['Ù, TRÔNG CON GIỖNG HỆT BỐ CON ĐẪY.']\n",
      "04_001.png: ['VÌ CON LÀ Con Lai GlỮA NGƯỜI VÀ RỒNG.']\n",
      "05_004.png: ['BINH TINH NÃO, ĐÂU PHẢl NÓ SẼ GlẾT CON HAY Gi ĐÂU.']\n"
     ]
    }
   ],
   "source": [
    "# OCR a text box with multiple lines\n",
    "from PIL import Image\n",
    "\n",
    "test_image_dir = \"../data/vi/test_data/multiple_line\"\n",
    "test_images = os.listdir(test_image_dir)\n",
    "for test_image in test_images:\n",
    "    img = os.path.join(test_image_dir, test_image)\n",
    "    result = reader.readtext(img, detail=0, paragraph=True)\n",
    "    print(f\"{test_image}: {result}\")"
   ]
  },
  {
   "cell_type": "code",
   "execution_count": 19,
   "id": "04bed669",
   "metadata": {},
   "outputs": [
    {
     "name": "stdout",
     "output_type": "stream",
     "text": [
      "04_001.png: ['VÌ COn LÀ']\n",
      "05_004.png: ['BINH TINH']\n"
     ]
    }
   ],
   "source": [
    "# OCR a text box with one lines\n",
    "from PIL import Image\n",
    "\n",
    "test_image_dir = \"../data/vi/test_data/one_line\"\n",
    "test_images = os.listdir(test_image_dir)\n",
    "for test_image in test_images:\n",
    "    img = os.path.join(test_image_dir, test_image)\n",
    "    result = reader.readtext(img, detail=0, paragraph=True)\n",
    "    print(f\"{test_image}: {result}\")"
   ]
  }
 ],
 "metadata": {
  "kernelspec": {
   "display_name": "vietocr",
   "language": "python",
   "name": "python3"
  },
  "language_info": {
   "codemirror_mode": {
    "name": "ipython",
    "version": 3
   },
   "file_extension": ".py",
   "mimetype": "text/x-python",
   "name": "python",
   "nbconvert_exporter": "python",
   "pygments_lexer": "ipython3",
   "version": "3.10.18"
  }
 },
 "nbformat": 4,
 "nbformat_minor": 5
}
