{
 "cells": [
  {
   "cell_type": "markdown",
   "id": "36f15c8e",
   "metadata": {},
   "source": [
    "# Mangadex"
   ]
  },
  {
   "cell_type": "markdown",
   "id": "763a124d",
   "metadata": {},
   "source": [
    "The command below is used to run on Window, Linux will have different command"
   ]
  },
  {
   "cell_type": "code",
   "execution_count": null,
   "id": "fe44c343",
   "metadata": {},
   "outputs": [
    {
     "name": "stdout",
     "output_type": "stream",
     "text": [
      "Downloading images from MangaDex...\n",
      "Finsihed EN 1/1: https://mangadex.org/title/0a2fd70d-e4de-49fb-8e81-89311d46b329/ruri-dragon-oneshot\n",
      "Finsihed VI 1/1: https://mangadex.org/title/0a2fd70d-e4de-49fb-8e81-89311d46b329/ruri-dragon-oneshot\n",
      "Manga saved to ../data\n"
     ]
    }
   ],
   "source": [
    "import os\n",
    "import subprocess\n",
    "\n",
    "\n",
    "def download_test_set(path_to_dataset_folder=\"./\"):\n",
    "    vi_folder = os.path.join(path_to_dataset_folder, \"vi\")\n",
    "    en_folder = os.path.join(path_to_dataset_folder, \"en\")\n",
    "    os.makedirs(vi_folder, exist_ok=True)\n",
    "    os.makedirs(en_folder, exist_ok=True)\n",
    "    print(\"Downloading images from MangaDex...\")\n",
    "\n",
    "    for order, link in enumerate(mangadex_links):\n",
    "        for lang, out_dir in [(\"en\", en_folder), (\"vi\", vi_folder)]:\n",
    "            args = [\n",
    "                \"mangadex-dl\",\n",
    "                link,\n",
    "                \"--path\",\n",
    "                os.path.join(out_dir, \"{manga.title}\"),\n",
    "                \"--no-group-name\",\n",
    "                \"--replace\",\n",
    "                \"--log-level\",\n",
    "                \"WARNING\",\n",
    "                \"--use-compressed-image\",\n",
    "                \"--cover\",\n",
    "                \"none\",\n",
    "                \"--language\",\n",
    "                lang,\n",
    "                \"--delay-requests\",\n",
    "                \"0.75\",\n",
    "            ]\n",
    "            try:\n",
    "                subprocess.run(args, check=True)\n",
    "                print(\n",
    "                    f\"Finsihed {lang.upper()} {order+1}/{len(mangadex_links)}: {link}\"\n",
    "                )\n",
    "                continue\n",
    "            except subprocess.CalledProcessError as e:\n",
    "                print(\n",
    "                    f\"Error {lang.upper()} {order+1}/{len(mangadex_links)}: {link} {e}\"\n",
    "                )\n",
    "                continue\n",
    "\n",
    "    print(f\"Manga saved to {path_to_dataset_folder}\")\n",
    "\n",
    "\n",
    "mangadex_links = [\n",
    "    \"https://mangadex.org/title/0a2fd70d-e4de-49fb-8e81-89311d46b329/ruri-dragon-oneshot\",\n",
    "    \"https://mangadex.org/title/63f2efed-e0cf-4ad1-98a9-7fba7f5848c1/the-raise\",\n",
    "]\n",
    "\n",
    "saved_folder = \"../data\"\n",
    "download_test_set(path_to_dataset_folder=saved_folder)"
   ]
  },
  {
   "cell_type": "markdown",
   "id": "f95cc85f",
   "metadata": {},
   "source": [
    "CLi version"
   ]
  },
  {
   "cell_type": "code",
   "execution_count": null,
   "id": "0af87fe8",
   "metadata": {},
   "outputs": [
    {
     "name": "stderr",
     "output_type": "stream",
     "text": [
      "[INFO] Checking url = https://mangadex.org/title/63f2efed-e0cf-4ad1-98a9-7fba7f5848c1/the-raise\n",
      "[INFO] Using Vietnamese language\n",
      "[INFO] Fetching all chapters...\n",
      "[INFO] Download directory is set to \"D:\\Downloads\\Tu_Lieu\\Cao_Hoc\\Master_Thesis\\master-thesis\\utils\\VN\\The Raise\"\n",
      "[INFO] Using raw format\n",
      "[INFO] Downloading cover manga The Raise\n",
      "[INFO] Not downloading cover manga, since \"cover\" is none\n",
      "[INFO] Getting images from chapter 1\n",
      "[INFO] Downloading [Senukin] Chapter. 1 page 1\n",
      "\n",
      "File sizes:   0%|                                   | 0.00/1.55M [00:00<?, ?B/s]\n",
      "File sizes:  13%|███▍                       | 197k/1.55M [00:00<00:01, 1.19MB/s]\n",
      "File sizes:  36%|█████████▊                 | 565k/1.55M [00:00<00:00, 2.34MB/s]\n",
      "File sizes:  77%|███████████████████▉      | 1.19M/1.55M [00:00<00:00, 3.88MB/s]\n",
      "File sizes: 100%|██████████████████████████| 1.55M/1.55M [00:00<00:00, 3.73MB/s]\n",
      "[INFO] Getting images from chapter 2\n",
      "[INFO] Downloading [Senukin] Chapter. 2 page 1\n",
      "\n",
      "File sizes:   0%|                                   | 0.00/2.91M [00:00<?, ?B/s]\n",
      "File sizes:  23%|██████▎                    | 680k/2.91M [00:00<00:00, 3.51MB/s]\n",
      "File sizes:  66%|█████████████████▏        | 1.92M/2.91M [00:00<00:00, 7.15MB/s]\n",
      "File sizes:  95%|████████████████████████▋ | 2.77M/2.91M [00:00<00:00, 5.44MB/s]\n",
      "File sizes: 100%|██████████████████████████| 2.91M/2.91M [00:00<00:00, 5.40MB/s]\n",
      "[INFO] Getting images from chapter 3\n",
      "[INFO] Downloading [Senukin] Chapter. 3 page 1\n",
      "\n",
      "File sizes:   0%|                                   | 0.00/1.89M [00:00<?, ?B/s]\n",
      "File sizes:  43%|███████████▌               | 811k/1.89M [00:00<00:00, 8.01MB/s]\n",
      "File sizes:  85%|██████████████████████▏   | 1.61M/1.89M [00:00<00:00, 7.94MB/s]\n",
      "File sizes: 100%|██████████████████████████| 1.89M/1.89M [00:00<00:00, 7.94MB/s]\n",
      "[INFO] Getting images from chapter 4\n",
      "[INFO] Downloading [Senukin] Chapter. 4 page 1\n",
      "\n",
      "File sizes:   0%|                                   | 0.00/3.25M [00:00<?, ?B/s]\n",
      "File sizes:  24%|██████▌                    | 795k/3.25M [00:00<00:00, 7.93MB/s]\n",
      "File sizes:  49%|████████████▊             | 1.60M/3.25M [00:00<00:00, 7.88MB/s]\n",
      "File sizes:  74%|███████████████████▏      | 2.39M/3.25M [00:00<00:00, 7.91MB/s]\n",
      "File sizes:  98%|█████████████████████████▍| 3.19M/3.25M [00:00<00:00, 7.84MB/s]\n",
      "File sizes: 100%|██████████████████████████| 3.25M/3.25M [00:00<00:00, 7.88MB/s]\n",
      "\n",
      "Convert: 0.00page [00:00, ?page/s]\n",
      "Convert: 0.00page [00:00, ?page/s]\n",
      "[INFO] Waiting for chapter read marker to finish\n",
      "[INFO] Download finished for manga \"The Raise\"\n",
      "[INFO] Cleaning up...\n"
     ]
    }
   ],
   "source": [
    "!mangadex-dl https://mangadex.org/title/63f2efed-e0cf-4ad1-98a9-7fba7f5848c1/the-raise --language \"vi\" --path \"./VN/{manga.title}\" --cover \"none\""
   ]
  }
 ],
 "metadata": {
  "kernelspec": {
   "display_name": "master-thesis",
   "language": "python",
   "name": "python3"
  },
  "language_info": {
   "codemirror_mode": {
    "name": "ipython",
    "version": 3
   },
   "file_extension": ".py",
   "mimetype": "text/x-python",
   "name": "python",
   "nbconvert_exporter": "python",
   "pygments_lexer": "ipython3",
   "version": "3.13.5"
  }
 },
 "nbformat": 4,
 "nbformat_minor": 5
}
