{
 "cells": [
  {
   "cell_type": "markdown",
   "metadata": {},
   "source": [
    "# Code"
   ]
  },
  {
   "cell_type": "markdown",
   "metadata": {},
   "source": [
    "Check GPU and set device"
   ]
  },
  {
   "cell_type": "code",
   "execution_count": 1,
   "metadata": {},
   "outputs": [
    {
     "name": "stdout",
     "output_type": "stream",
     "text": [
      "torch.version.cuda: 12.9\n",
      "torch.backends.cudnn.enabled: True\n",
      "Sat Sep 13 05:48:55 2025       \n",
      "+-----------------------------------------------------------------------------------------+\n",
      "| NVIDIA-SMI 580.88                 Driver Version: 580.88         CUDA Version: 13.0     |\n",
      "+-----------------------------------------+------------------------+----------------------+\n",
      "| GPU  Name                  Driver-Model | Bus-Id          Disp.A | Volatile Uncorr. ECC |\n",
      "| Fan  Temp   Perf          Pwr:Usage/Cap |           Memory-Usage | GPU-Util  Compute M. |\n",
      "|                                         |                        |               MIG M. |\n",
      "|=========================================+========================+======================|\n",
      "|   0  NVIDIA GeForce RTX 4060 ...  WDDM  |   00000000:01:00.0 Off |                  N/A |\n",
      "| N/A   47C    P3            590W /   68W |       0MiB /   8188MiB |      0%      Default |\n",
      "|                                         |                        |                  N/A |\n",
      "+-----------------------------------------+------------------------+----------------------+\n",
      "\n",
      "+-----------------------------------------------------------------------------------------+\n",
      "| Processes:                                                                              |\n",
      "|  GPU   GI   CI              PID   Type   Process name                        GPU Memory |\n",
      "|        ID   ID                                                               Usage      |\n",
      "|=========================================================================================|\n",
      "|  No running processes found                                                             |\n",
      "+-----------------------------------------------------------------------------------------+\n",
      "nvcc: NVIDIA (R) Cuda compiler driver\n",
      "Copyright (c) 2005-2025 NVIDIA Corporation\n",
      "Built on Tue_May_27_02:24:01_Pacific_Daylight_Time_2025\n",
      "Cuda compilation tools, release 12.9, V12.9.86\n",
      "Build cuda_12.9.r12.9/compiler.36037853_0\n",
      "Running on cuda\n"
     ]
    }
   ],
   "source": [
    "import torch\n",
    "\n",
    "if torch.cuda.is_available():\n",
    "    print(f\"torch.version.cuda: {torch.version.cuda}\")\n",
    "    print(f\"torch.backends.cudnn.enabled: {torch.backends.cudnn.enabled}\")\n",
    "    !nvidia-smi\n",
    "    !nvcc --version\n",
    "else:\n",
    "    print(\"GPU is not available\")\n",
    "\n",
    "\n",
    "device = \"cuda\" if torch.cuda.is_available() else \"cpu\"\n",
    "print(f\"Running on {device}\")"
   ]
  },
  {
   "cell_type": "markdown",
   "metadata": {},
   "source": [
    "## Load MAGI model"
   ]
  },
  {
   "cell_type": "code",
   "execution_count": null,
   "metadata": {
    "trusted": true
   },
   "outputs": [
    {
     "ename": "KeyboardInterrupt",
     "evalue": "",
     "output_type": "error",
     "traceback": [
      "\u001b[31m---------------------------------------------------------------------------\u001b[39m",
      "\u001b[31mKeyboardInterrupt\u001b[39m                         Traceback (most recent call last)",
      "\u001b[36mCell\u001b[39m\u001b[36m \u001b[39m\u001b[32mIn[39]\u001b[39m\u001b[32m, line 6\u001b[39m\n\u001b[32m      3\u001b[39m \u001b[38;5;28;01mfrom\u001b[39;00m\u001b[38;5;250m \u001b[39m\u001b[34;01mtransformers\u001b[39;00m\u001b[38;5;250m \u001b[39m\u001b[38;5;28;01mimport\u001b[39;00m AutoModel\n\u001b[32m      4\u001b[39m \u001b[38;5;28;01mimport\u001b[39;00m\u001b[38;5;250m \u001b[39m\u001b[34;01mtorch\u001b[39;00m\n\u001b[32m----> \u001b[39m\u001b[32m6\u001b[39m model = \u001b[43mAutoModel\u001b[49m\u001b[43m.\u001b[49m\u001b[43mfrom_pretrained\u001b[49m\u001b[43m(\u001b[49m\u001b[33;43m\"\u001b[39;49m\u001b[33;43mragavsachdeva/magiv2\u001b[39;49m\u001b[33;43m\"\u001b[39;49m\u001b[43m,\u001b[49m\u001b[43m \u001b[49m\u001b[43mtrust_remote_code\u001b[49m\u001b[43m=\u001b[49m\u001b[38;5;28;43;01mTrue\u001b[39;49;00m\u001b[43m)\u001b[49m.cuda().eval()\n",
      "\u001b[36mFile \u001b[39m\u001b[32md:\\miniconda3\\envs\\master-thesis\\Lib\\site-packages\\transformers\\models\\auto\\auto_factory.py:593\u001b[39m, in \u001b[36m_BaseAutoModelClass.from_pretrained\u001b[39m\u001b[34m(cls, pretrained_model_name_or_path, *model_args, **kwargs)\u001b[39m\n\u001b[32m    591\u001b[39m         model_class.register_for_auto_class(auto_class=\u001b[38;5;28mcls\u001b[39m)\n\u001b[32m    592\u001b[39m     model_class = add_generation_mixin_to_remote_model(model_class)\n\u001b[32m--> \u001b[39m\u001b[32m593\u001b[39m     \u001b[38;5;28;01mreturn\u001b[39;00m \u001b[43mmodel_class\u001b[49m\u001b[43m.\u001b[49m\u001b[43mfrom_pretrained\u001b[49m\u001b[43m(\u001b[49m\n\u001b[32m    594\u001b[39m \u001b[43m        \u001b[49m\u001b[43mpretrained_model_name_or_path\u001b[49m\u001b[43m,\u001b[49m\u001b[43m \u001b[49m\u001b[43m*\u001b[49m\u001b[43mmodel_args\u001b[49m\u001b[43m,\u001b[49m\u001b[43m \u001b[49m\u001b[43mconfig\u001b[49m\u001b[43m=\u001b[49m\u001b[43mconfig\u001b[49m\u001b[43m,\u001b[49m\u001b[43m \u001b[49m\u001b[43m*\u001b[49m\u001b[43m*\u001b[49m\u001b[43mhub_kwargs\u001b[49m\u001b[43m,\u001b[49m\u001b[43m \u001b[49m\u001b[43m*\u001b[49m\u001b[43m*\u001b[49m\u001b[43mkwargs\u001b[49m\n\u001b[32m    595\u001b[39m \u001b[43m    \u001b[49m\u001b[43m)\u001b[49m\n\u001b[32m    596\u001b[39m \u001b[38;5;28;01melif\u001b[39;00m \u001b[38;5;28mtype\u001b[39m(config) \u001b[38;5;129;01min\u001b[39;00m \u001b[38;5;28mcls\u001b[39m._model_mapping:\n\u001b[32m    597\u001b[39m     model_class = _get_model_class(config, \u001b[38;5;28mcls\u001b[39m._model_mapping)\n",
      "\u001b[36mFile \u001b[39m\u001b[32md:\\miniconda3\\envs\\master-thesis\\Lib\\site-packages\\transformers\\modeling_utils.py:317\u001b[39m, in \u001b[36mrestore_default_torch_dtype.<locals>._wrapper\u001b[39m\u001b[34m(*args, **kwargs)\u001b[39m\n\u001b[32m    315\u001b[39m old_dtype = torch.get_default_dtype()\n\u001b[32m    316\u001b[39m \u001b[38;5;28;01mtry\u001b[39;00m:\n\u001b[32m--> \u001b[39m\u001b[32m317\u001b[39m     \u001b[38;5;28;01mreturn\u001b[39;00m \u001b[43mfunc\u001b[49m\u001b[43m(\u001b[49m\u001b[43m*\u001b[49m\u001b[43margs\u001b[49m\u001b[43m,\u001b[49m\u001b[43m \u001b[49m\u001b[43m*\u001b[49m\u001b[43m*\u001b[49m\u001b[43mkwargs\u001b[49m\u001b[43m)\u001b[49m\n\u001b[32m    318\u001b[39m \u001b[38;5;28;01mfinally\u001b[39;00m:\n\u001b[32m    319\u001b[39m     torch.set_default_dtype(old_dtype)\n",
      "\u001b[36mFile \u001b[39m\u001b[32md:\\miniconda3\\envs\\master-thesis\\Lib\\site-packages\\transformers\\modeling_utils.py:5074\u001b[39m, in \u001b[36mPreTrainedModel.from_pretrained\u001b[39m\u001b[34m(cls, pretrained_model_name_or_path, config, cache_dir, ignore_mismatched_sizes, force_download, local_files_only, token, revision, use_safetensors, weights_only, *model_args, **kwargs)\u001b[39m\n\u001b[32m   5064\u001b[39m     \u001b[38;5;28;01mif\u001b[39;00m dtype_orig \u001b[38;5;129;01mis\u001b[39;00m \u001b[38;5;129;01mnot\u001b[39;00m \u001b[38;5;28;01mNone\u001b[39;00m:\n\u001b[32m   5065\u001b[39m         torch.set_default_dtype(dtype_orig)\n\u001b[32m   5067\u001b[39m     (\n\u001b[32m   5068\u001b[39m         model,\n\u001b[32m   5069\u001b[39m         missing_keys,\n\u001b[32m   5070\u001b[39m         unexpected_keys,\n\u001b[32m   5071\u001b[39m         mismatched_keys,\n\u001b[32m   5072\u001b[39m         offload_index,\n\u001b[32m   5073\u001b[39m         error_msgs,\n\u001b[32m-> \u001b[39m\u001b[32m5074\u001b[39m     ) = \u001b[38;5;28;43mcls\u001b[39;49m\u001b[43m.\u001b[49m\u001b[43m_load_pretrained_model\u001b[49m\u001b[43m(\u001b[49m\n\u001b[32m   5075\u001b[39m \u001b[43m        \u001b[49m\u001b[43mmodel\u001b[49m\u001b[43m,\u001b[49m\n\u001b[32m   5076\u001b[39m \u001b[43m        \u001b[49m\u001b[43mstate_dict\u001b[49m\u001b[43m,\u001b[49m\n\u001b[32m   5077\u001b[39m \u001b[43m        \u001b[49m\u001b[43mcheckpoint_files\u001b[49m\u001b[43m,\u001b[49m\n\u001b[32m   5078\u001b[39m \u001b[43m        \u001b[49m\u001b[43mpretrained_model_name_or_path\u001b[49m\u001b[43m,\u001b[49m\n\u001b[32m   5079\u001b[39m \u001b[43m        \u001b[49m\u001b[43mignore_mismatched_sizes\u001b[49m\u001b[43m=\u001b[49m\u001b[43mignore_mismatched_sizes\u001b[49m\u001b[43m,\u001b[49m\n\u001b[32m   5080\u001b[39m \u001b[43m        \u001b[49m\u001b[43msharded_metadata\u001b[49m\u001b[43m=\u001b[49m\u001b[43msharded_metadata\u001b[49m\u001b[43m,\u001b[49m\n\u001b[32m   5081\u001b[39m \u001b[43m        \u001b[49m\u001b[43mdevice_map\u001b[49m\u001b[43m=\u001b[49m\u001b[43mdevice_map\u001b[49m\u001b[43m,\u001b[49m\n\u001b[32m   5082\u001b[39m \u001b[43m        \u001b[49m\u001b[43mdisk_offload_folder\u001b[49m\u001b[43m=\u001b[49m\u001b[43moffload_folder\u001b[49m\u001b[43m,\u001b[49m\n\u001b[32m   5083\u001b[39m \u001b[43m        \u001b[49m\u001b[43moffload_state_dict\u001b[49m\u001b[43m=\u001b[49m\u001b[43moffload_state_dict\u001b[49m\u001b[43m,\u001b[49m\n\u001b[32m   5084\u001b[39m \u001b[43m        \u001b[49m\u001b[43mdtype\u001b[49m\u001b[43m=\u001b[49m\u001b[43mtorch_dtype\u001b[49m\u001b[43m,\u001b[49m\n\u001b[32m   5085\u001b[39m \u001b[43m        \u001b[49m\u001b[43mhf_quantizer\u001b[49m\u001b[43m=\u001b[49m\u001b[43mhf_quantizer\u001b[49m\u001b[43m,\u001b[49m\n\u001b[32m   5086\u001b[39m \u001b[43m        \u001b[49m\u001b[43mkeep_in_fp32_regex\u001b[49m\u001b[43m=\u001b[49m\u001b[43mkeep_in_fp32_regex\u001b[49m\u001b[43m,\u001b[49m\n\u001b[32m   5087\u001b[39m \u001b[43m        \u001b[49m\u001b[43mdevice_mesh\u001b[49m\u001b[43m=\u001b[49m\u001b[43mdevice_mesh\u001b[49m\u001b[43m,\u001b[49m\n\u001b[32m   5088\u001b[39m \u001b[43m        \u001b[49m\u001b[43mkey_mapping\u001b[49m\u001b[43m=\u001b[49m\u001b[43mkey_mapping\u001b[49m\u001b[43m,\u001b[49m\n\u001b[32m   5089\u001b[39m \u001b[43m        \u001b[49m\u001b[43mweights_only\u001b[49m\u001b[43m=\u001b[49m\u001b[43mweights_only\u001b[49m\u001b[43m,\u001b[49m\n\u001b[32m   5090\u001b[39m \u001b[43m    \u001b[49m\u001b[43m)\u001b[49m\n\u001b[32m   5091\u001b[39m \u001b[38;5;66;03m# make sure token embedding weights are still tied if needed\u001b[39;00m\n\u001b[32m   5092\u001b[39m model.tie_weights()\n",
      "\u001b[36mFile \u001b[39m\u001b[32md:\\miniconda3\\envs\\master-thesis\\Lib\\site-packages\\transformers\\modeling_utils.py:5340\u001b[39m, in \u001b[36mPreTrainedModel._load_pretrained_model\u001b[39m\u001b[34m(cls, model, state_dict, checkpoint_files, pretrained_model_name_or_path, ignore_mismatched_sizes, sharded_metadata, device_map, disk_offload_folder, offload_state_dict, dtype, hf_quantizer, keep_in_fp32_regex, device_mesh, key_mapping, weights_only)\u001b[39m\n\u001b[32m   5337\u001b[39m     original_checkpoint_keys = \u001b[38;5;28mlist\u001b[39m(state_dict.keys())\n\u001b[32m   5338\u001b[39m \u001b[38;5;28;01melse\u001b[39;00m:\n\u001b[32m   5339\u001b[39m     original_checkpoint_keys = \u001b[38;5;28mlist\u001b[39m(\n\u001b[32m-> \u001b[39m\u001b[32m5340\u001b[39m         \u001b[43mload_state_dict\u001b[49m\u001b[43m(\u001b[49m\u001b[43mcheckpoint_files\u001b[49m\u001b[43m[\u001b[49m\u001b[32;43m0\u001b[39;49m\u001b[43m]\u001b[49m\u001b[43m,\u001b[49m\u001b[43m \u001b[49m\u001b[43mmap_location\u001b[49m\u001b[43m=\u001b[49m\u001b[33;43m\"\u001b[39;49m\u001b[33;43mmeta\u001b[39;49m\u001b[33;43m\"\u001b[39;49m\u001b[43m,\u001b[49m\u001b[43m \u001b[49m\u001b[43mweights_only\u001b[49m\u001b[43m=\u001b[49m\u001b[43mweights_only\u001b[49m\u001b[43m)\u001b[49m.keys()\n\u001b[32m   5341\u001b[39m     )\n\u001b[32m   5343\u001b[39m \u001b[38;5;66;03m# Check if we are in a special state, i.e. loading from a state dict coming from a different architecture\u001b[39;00m\n\u001b[32m   5344\u001b[39m prefix = model.base_model_prefix\n",
      "\u001b[36mFile \u001b[39m\u001b[32md:\\miniconda3\\envs\\master-thesis\\Lib\\site-packages\\transformers\\modeling_utils.py:580\u001b[39m, in \u001b[36mload_state_dict\u001b[39m\u001b[34m(checkpoint_file, is_quantized, map_location, weights_only)\u001b[39m\n\u001b[32m    578\u001b[39m     \u001b[38;5;28;01mif\u001b[39;00m \u001b[38;5;28misinstance\u001b[39m(checkpoint_file, \u001b[38;5;28mstr\u001b[39m) \u001b[38;5;129;01mand\u001b[39;00m map_location != \u001b[33m\"\u001b[39m\u001b[33mmeta\u001b[39m\u001b[33m\"\u001b[39m \u001b[38;5;129;01mand\u001b[39;00m is_zipfile(checkpoint_file):\n\u001b[32m    579\u001b[39m         extra_args = {\u001b[33m\"\u001b[39m\u001b[33mmmap\u001b[39m\u001b[33m\"\u001b[39m: \u001b[38;5;28;01mTrue\u001b[39;00m}\n\u001b[32m--> \u001b[39m\u001b[32m580\u001b[39m     \u001b[38;5;28;01mreturn\u001b[39;00m \u001b[43mtorch\u001b[49m\u001b[43m.\u001b[49m\u001b[43mload\u001b[49m\u001b[43m(\u001b[49m\n\u001b[32m    581\u001b[39m \u001b[43m        \u001b[49m\u001b[43mcheckpoint_file\u001b[49m\u001b[43m,\u001b[49m\n\u001b[32m    582\u001b[39m \u001b[43m        \u001b[49m\u001b[43mmap_location\u001b[49m\u001b[43m=\u001b[49m\u001b[43mmap_location\u001b[49m\u001b[43m,\u001b[49m\n\u001b[32m    583\u001b[39m \u001b[43m        \u001b[49m\u001b[43mweights_only\u001b[49m\u001b[43m=\u001b[49m\u001b[43mweights_only\u001b[49m\u001b[43m,\u001b[49m\n\u001b[32m    584\u001b[39m \u001b[43m        \u001b[49m\u001b[43m*\u001b[49m\u001b[43m*\u001b[49m\u001b[43mextra_args\u001b[49m\u001b[43m,\u001b[49m\n\u001b[32m    585\u001b[39m \u001b[43m    \u001b[49m\u001b[43m)\u001b[49m\n\u001b[32m    586\u001b[39m \u001b[38;5;28;01mexcept\u001b[39;00m \u001b[38;5;167;01mException\u001b[39;00m \u001b[38;5;28;01mas\u001b[39;00m e:\n\u001b[32m    587\u001b[39m     \u001b[38;5;28;01mtry\u001b[39;00m:\n",
      "\u001b[36mFile \u001b[39m\u001b[32md:\\miniconda3\\envs\\master-thesis\\Lib\\site-packages\\torch\\serialization.py:1521\u001b[39m, in \u001b[36mload\u001b[39m\u001b[34m(f, map_location, pickle_module, weights_only, mmap, **pickle_load_args)\u001b[39m\n\u001b[32m   1519\u001b[39m \u001b[38;5;28;01mif\u001b[39;00m weights_only:\n\u001b[32m   1520\u001b[39m     \u001b[38;5;28;01mtry\u001b[39;00m:\n\u001b[32m-> \u001b[39m\u001b[32m1521\u001b[39m         \u001b[38;5;28;01mreturn\u001b[39;00m \u001b[43m_load\u001b[49m\u001b[43m(\u001b[49m\n\u001b[32m   1522\u001b[39m \u001b[43m            \u001b[49m\u001b[43mopened_zipfile\u001b[49m\u001b[43m,\u001b[49m\n\u001b[32m   1523\u001b[39m \u001b[43m            \u001b[49m\u001b[43mmap_location\u001b[49m\u001b[43m,\u001b[49m\n\u001b[32m   1524\u001b[39m \u001b[43m            \u001b[49m\u001b[43m_weights_only_unpickler\u001b[49m\u001b[43m,\u001b[49m\n\u001b[32m   1525\u001b[39m \u001b[43m            \u001b[49m\u001b[43moverall_storage\u001b[49m\u001b[43m=\u001b[49m\u001b[43moverall_storage\u001b[49m\u001b[43m,\u001b[49m\n\u001b[32m   1526\u001b[39m \u001b[43m            \u001b[49m\u001b[43m*\u001b[49m\u001b[43m*\u001b[49m\u001b[43mpickle_load_args\u001b[49m\u001b[43m,\u001b[49m\n\u001b[32m   1527\u001b[39m \u001b[43m        \u001b[49m\u001b[43m)\u001b[49m\n\u001b[32m   1528\u001b[39m     \u001b[38;5;28;01mexcept\u001b[39;00m pickle.UnpicklingError \u001b[38;5;28;01mas\u001b[39;00m e:\n\u001b[32m   1529\u001b[39m         \u001b[38;5;28;01mraise\u001b[39;00m pickle.UnpicklingError(_get_wo_message(\u001b[38;5;28mstr\u001b[39m(e))) \u001b[38;5;28;01mfrom\u001b[39;00m\u001b[38;5;250m \u001b[39m\u001b[38;5;28;01mNone\u001b[39;00m\n",
      "\u001b[36mFile \u001b[39m\u001b[32md:\\miniconda3\\envs\\master-thesis\\Lib\\site-packages\\torch\\serialization.py:2119\u001b[39m, in \u001b[36m_load\u001b[39m\u001b[34m(zip_file, map_location, pickle_module, pickle_file, overall_storage, **pickle_load_args)\u001b[39m\n\u001b[32m   2117\u001b[39m \u001b[38;5;28;01mglobal\u001b[39;00m _serialization_tls\n\u001b[32m   2118\u001b[39m _serialization_tls.map_location = map_location\n\u001b[32m-> \u001b[39m\u001b[32m2119\u001b[39m result = \u001b[43munpickler\u001b[49m\u001b[43m.\u001b[49m\u001b[43mload\u001b[49m\u001b[43m(\u001b[49m\u001b[43m)\u001b[49m\n\u001b[32m   2120\u001b[39m _serialization_tls.map_location = \u001b[38;5;28;01mNone\u001b[39;00m\n\u001b[32m   2122\u001b[39m torch._utils._validate_loaded_sparse_tensors()\n",
      "\u001b[36mFile \u001b[39m\u001b[32md:\\miniconda3\\envs\\master-thesis\\Lib\\site-packages\\torch\\_weights_only_unpickler.py:532\u001b[39m, in \u001b[36mUnpickler.load\u001b[39m\u001b[34m(self)\u001b[39m\n\u001b[32m    524\u001b[39m     \u001b[38;5;28;01mif\u001b[39;00m (\n\u001b[32m    525\u001b[39m         \u001b[38;5;28mtype\u001b[39m(pid) \u001b[38;5;129;01mis\u001b[39;00m \u001b[38;5;28mtuple\u001b[39m\n\u001b[32m    526\u001b[39m         \u001b[38;5;129;01mand\u001b[39;00m \u001b[38;5;28mlen\u001b[39m(pid) > \u001b[32m0\u001b[39m\n\u001b[32m    527\u001b[39m         \u001b[38;5;129;01mand\u001b[39;00m torch.serialization._maybe_decode_ascii(pid[\u001b[32m0\u001b[39m]) != \u001b[33m\"\u001b[39m\u001b[33mstorage\u001b[39m\u001b[33m\"\u001b[39m\n\u001b[32m    528\u001b[39m     ):\n\u001b[32m    529\u001b[39m         \u001b[38;5;28;01mraise\u001b[39;00m UnpicklingError(\n\u001b[32m    530\u001b[39m             \u001b[33mf\u001b[39m\u001b[33m\"\u001b[39m\u001b[33mOnly persistent_load of storage is allowed, but got \u001b[39m\u001b[38;5;132;01m{\u001b[39;00mpid[\u001b[32m0\u001b[39m]\u001b[38;5;132;01m}\u001b[39;00m\u001b[33m\"\u001b[39m\n\u001b[32m    531\u001b[39m         )\n\u001b[32m--> \u001b[39m\u001b[32m532\u001b[39m     \u001b[38;5;28mself\u001b[39m.append(\u001b[38;5;28;43mself\u001b[39;49m\u001b[43m.\u001b[49m\u001b[43mpersistent_load\u001b[49m\u001b[43m(\u001b[49m\u001b[43mpid\u001b[49m\u001b[43m)\u001b[49m)\n\u001b[32m    533\u001b[39m \u001b[38;5;28;01melif\u001b[39;00m key[\u001b[32m0\u001b[39m] \u001b[38;5;129;01min\u001b[39;00m [BINGET[\u001b[32m0\u001b[39m], LONG_BINGET[\u001b[32m0\u001b[39m]]:\n\u001b[32m    534\u001b[39m     idx = (read(\u001b[32m1\u001b[39m) \u001b[38;5;28;01mif\u001b[39;00m key[\u001b[32m0\u001b[39m] == BINGET[\u001b[32m0\u001b[39m] \u001b[38;5;28;01melse\u001b[39;00m unpack(\u001b[33m\"\u001b[39m\u001b[33m<I\u001b[39m\u001b[33m\"\u001b[39m, read(\u001b[32m4\u001b[39m)))[\u001b[32m0\u001b[39m]\n",
      "\u001b[36mFile \u001b[39m\u001b[32md:\\miniconda3\\envs\\master-thesis\\Lib\\site-packages\\torch\\serialization.py:2083\u001b[39m, in \u001b[36m_load.<locals>.persistent_load\u001b[39m\u001b[34m(saved_id)\u001b[39m\n\u001b[32m   2081\u001b[39m \u001b[38;5;28;01melse\u001b[39;00m:\n\u001b[32m   2082\u001b[39m     nbytes = numel * torch._utils._element_size(dtype)\n\u001b[32m-> \u001b[39m\u001b[32m2083\u001b[39m     typed_storage = \u001b[43mload_tensor\u001b[49m\u001b[43m(\u001b[49m\n\u001b[32m   2084\u001b[39m \u001b[43m        \u001b[49m\u001b[43mdtype\u001b[49m\u001b[43m,\u001b[49m\u001b[43m \u001b[49m\u001b[43mnbytes\u001b[49m\u001b[43m,\u001b[49m\u001b[43m \u001b[49m\u001b[43mkey\u001b[49m\u001b[43m,\u001b[49m\u001b[43m \u001b[49m\u001b[43m_maybe_decode_ascii\u001b[49m\u001b[43m(\u001b[49m\u001b[43mlocation\u001b[49m\u001b[43m)\u001b[49m\n\u001b[32m   2085\u001b[39m \u001b[43m    \u001b[49m\u001b[43m)\u001b[49m\n\u001b[32m   2087\u001b[39m \u001b[38;5;28;01mreturn\u001b[39;00m typed_storage\n",
      "\u001b[36mFile \u001b[39m\u001b[32md:\\miniconda3\\envs\\master-thesis\\Lib\\site-packages\\torch\\serialization.py:2036\u001b[39m, in \u001b[36m_load.<locals>.load_tensor\u001b[39m\u001b[34m(dtype, numel, key, location)\u001b[39m\n\u001b[32m   2029\u001b[39m         \u001b[38;5;28;01mif\u001b[39;00m storage_offset != zip_file.get_record_offset(name):\n\u001b[32m   2030\u001b[39m             \u001b[38;5;28;01mraise\u001b[39;00m \u001b[38;5;167;01mRuntimeError\u001b[39;00m(\n\u001b[32m   2031\u001b[39m                 \u001b[33m\"\u001b[39m\u001b[33mThis is a debug assert that was run as the `TORCH_SERIALIZATION_DEBUG` environment \u001b[39m\u001b[33m\"\u001b[39m\n\u001b[32m   2032\u001b[39m                 \u001b[33mf\u001b[39m\u001b[33m\"\u001b[39m\u001b[33mvariable was set: Incorrect offset for \u001b[39m\u001b[38;5;132;01m{\u001b[39;00mname\u001b[38;5;132;01m}\u001b[39;00m\u001b[33m, got \u001b[39m\u001b[38;5;132;01m{\u001b[39;00mstorage_offset\u001b[38;5;132;01m}\u001b[39;00m\u001b[33m expected \u001b[39m\u001b[33m\"\u001b[39m\n\u001b[32m   2033\u001b[39m                 \u001b[33mf\u001b[39m\u001b[33m\"\u001b[39m\u001b[38;5;132;01m{\u001b[39;00mzip_file.get_record_offset(name)\u001b[38;5;132;01m}\u001b[39;00m\u001b[33m\"\u001b[39m\n\u001b[32m   2034\u001b[39m             )\n\u001b[32m   2035\u001b[39m     storage = (\n\u001b[32m-> \u001b[39m\u001b[32m2036\u001b[39m         \u001b[43mzip_file\u001b[49m\u001b[43m.\u001b[49m\u001b[43mget_storage_from_record\u001b[49m\u001b[43m(\u001b[49m\u001b[43mname\u001b[49m\u001b[43m,\u001b[49m\u001b[43m \u001b[49m\u001b[43mnumel\u001b[49m\u001b[43m,\u001b[49m\u001b[43m \u001b[49m\u001b[43mtorch\u001b[49m\u001b[43m.\u001b[49m\u001b[43mUntypedStorage\u001b[49m\u001b[43m)\u001b[49m\n\u001b[32m   2037\u001b[39m         ._typed_storage()\n\u001b[32m   2038\u001b[39m         ._untyped_storage\n\u001b[32m   2039\u001b[39m     )\n\u001b[32m   2040\u001b[39m \u001b[38;5;66;03m# swap here if byteswapping is needed\u001b[39;00m\n\u001b[32m   2041\u001b[39m \u001b[38;5;28;01mif\u001b[39;00m byteorderdata \u001b[38;5;129;01mis\u001b[39;00m \u001b[38;5;129;01mnot\u001b[39;00m \u001b[38;5;28;01mNone\u001b[39;00m:\n",
      "\u001b[31mKeyboardInterrupt\u001b[39m: "
     ]
    }
   ],
   "source": [
    "from transformers import AutoModel\n",
    "import torch\n",
    "\n",
    "model = (\n",
    "    AutoModel.from_pretrained(\"ragavsachdeva/magiv2\", trust_remote_code=True)\n",
    "    .cuda()\n",
    "    .eval()\n",
    ")"
   ]
  },
  {
   "cell_type": "markdown",
   "metadata": {},
   "source": [
    "## Save/Load model to local"
   ]
  },
  {
   "cell_type": "code",
   "execution_count": null,
   "metadata": {
    "execution": {
     "iopub.execute_input": "2025-08-23T01:22:35.595011Z",
     "iopub.status.busy": "2025-08-23T01:22:35.594288Z",
     "iopub.status.idle": "2025-08-23T01:22:40.229627Z",
     "shell.execute_reply": "2025-08-23T01:22:40.228801Z",
     "shell.execute_reply.started": "2025-08-23T01:22:35.594986Z"
    },
    "trusted": true
   },
   "outputs": [],
   "source": [
    "# Save model to directory:\n",
    "import os\n",
    "\n",
    "magi_model_dir = \"../models/magi_model\"\n",
    "os.makedirs(magi_model_dir, exist_ok=True)\n",
    "model.save_pretrained(magi_model_dir)"
   ]
  },
  {
   "cell_type": "code",
   "execution_count": 3,
   "metadata": {
    "execution": {
     "iopub.execute_input": "2025-08-23T01:22:45.196339Z",
     "iopub.status.busy": "2025-08-23T01:22:45.195552Z",
     "iopub.status.idle": "2025-08-23T01:22:49.268903Z",
     "shell.execute_reply": "2025-08-23T01:22:49.268083Z",
     "shell.execute_reply.started": "2025-08-23T01:22:45.196303Z"
    },
    "trusted": true
   },
   "outputs": [
    {
     "name": "stderr",
     "output_type": "stream",
     "text": [
      "d:\\miniconda3\\envs\\master-thesis\\Lib\\site-packages\\tqdm\\auto.py:21: TqdmWarning: IProgress not found. Please update jupyter and ipywidgets. See https://ipywidgets.readthedocs.io/en/stable/user_install.html\n",
      "  from .autonotebook import tqdm as notebook_tqdm\n",
      "Using a slow image processor as `use_fast` is unset and a slow processor was saved with this model. `use_fast=True` will be the default behavior in v4.52, even if the model was saved with a slow processor. This will result in minor differences in outputs. You'll still be able to use a slow processor with `use_fast=False`.\n",
      "d:\\miniconda3\\envs\\master-thesis\\Lib\\site-packages\\torch\\nn\\modules\\module.py:2441: UserWarning: for conv1.weight: copying from a non-meta parameter in the checkpoint to a meta parameter in the current model, which is a no-op. (Did you mean to pass `assign=True` to assign items in the state dictionary to their corresponding key in the module instead of copying them in place?)\n",
      "  warnings.warn(\n",
      "d:\\miniconda3\\envs\\master-thesis\\Lib\\site-packages\\torch\\nn\\modules\\module.py:2441: UserWarning: for bn1.weight: copying from a non-meta parameter in the checkpoint to a meta parameter in the current model, which is a no-op. (Did you mean to pass `assign=True` to assign items in the state dictionary to their corresponding key in the module instead of copying them in place?)\n",
      "  warnings.warn(\n",
      "d:\\miniconda3\\envs\\master-thesis\\Lib\\site-packages\\torch\\nn\\modules\\module.py:2441: UserWarning: for bn1.bias: copying from a non-meta parameter in the checkpoint to a meta parameter in the current model, which is a no-op. (Did you mean to pass `assign=True` to assign items in the state dictionary to their corresponding key in the module instead of copying them in place?)\n",
      "  warnings.warn(\n",
      "d:\\miniconda3\\envs\\master-thesis\\Lib\\site-packages\\torch\\nn\\modules\\module.py:2441: UserWarning: for layer1.0.conv1.weight: copying from a non-meta parameter in the checkpoint to a meta parameter in the current model, which is a no-op. (Did you mean to pass `assign=True` to assign items in the state dictionary to their corresponding key in the module instead of copying them in place?)\n",
      "  warnings.warn(\n",
      "d:\\miniconda3\\envs\\master-thesis\\Lib\\site-packages\\torch\\nn\\modules\\module.py:2441: UserWarning: for layer1.0.bn1.weight: copying from a non-meta parameter in the checkpoint to a meta parameter in the current model, which is a no-op. (Did you mean to pass `assign=True` to assign items in the state dictionary to their corresponding key in the module instead of copying them in place?)\n",
      "  warnings.warn(\n",
      "d:\\miniconda3\\envs\\master-thesis\\Lib\\site-packages\\torch\\nn\\modules\\module.py:2441: UserWarning: for layer1.0.bn1.bias: copying from a non-meta parameter in the checkpoint to a meta parameter in the current model, which is a no-op. (Did you mean to pass `assign=True` to assign items in the state dictionary to their corresponding key in the module instead of copying them in place?)\n",
      "  warnings.warn(\n",
      "d:\\miniconda3\\envs\\master-thesis\\Lib\\site-packages\\torch\\nn\\modules\\module.py:2441: UserWarning: for layer1.0.conv2.weight: copying from a non-meta parameter in the checkpoint to a meta parameter in the current model, which is a no-op. (Did you mean to pass `assign=True` to assign items in the state dictionary to their corresponding key in the module instead of copying them in place?)\n",
      "  warnings.warn(\n",
      "d:\\miniconda3\\envs\\master-thesis\\Lib\\site-packages\\torch\\nn\\modules\\module.py:2441: UserWarning: for layer1.0.bn2.weight: copying from a non-meta parameter in the checkpoint to a meta parameter in the current model, which is a no-op. (Did you mean to pass `assign=True` to assign items in the state dictionary to their corresponding key in the module instead of copying them in place?)\n",
      "  warnings.warn(\n",
      "d:\\miniconda3\\envs\\master-thesis\\Lib\\site-packages\\torch\\nn\\modules\\module.py:2441: UserWarning: for layer1.0.bn2.bias: copying from a non-meta parameter in the checkpoint to a meta parameter in the current model, which is a no-op. (Did you mean to pass `assign=True` to assign items in the state dictionary to their corresponding key in the module instead of copying them in place?)\n",
      "  warnings.warn(\n",
      "d:\\miniconda3\\envs\\master-thesis\\Lib\\site-packages\\torch\\nn\\modules\\module.py:2441: UserWarning: for layer1.0.conv3.weight: copying from a non-meta parameter in the checkpoint to a meta parameter in the current model, which is a no-op. (Did you mean to pass `assign=True` to assign items in the state dictionary to their corresponding key in the module instead of copying them in place?)\n",
      "  warnings.warn(\n",
      "d:\\miniconda3\\envs\\master-thesis\\Lib\\site-packages\\torch\\nn\\modules\\module.py:2441: UserWarning: for layer1.0.bn3.weight: copying from a non-meta parameter in the checkpoint to a meta parameter in the current model, which is a no-op. (Did you mean to pass `assign=True` to assign items in the state dictionary to their corresponding key in the module instead of copying them in place?)\n",
      "  warnings.warn(\n",
      "d:\\miniconda3\\envs\\master-thesis\\Lib\\site-packages\\torch\\nn\\modules\\module.py:2441: UserWarning: for layer1.0.bn3.bias: copying from a non-meta parameter in the checkpoint to a meta parameter in the current model, which is a no-op. (Did you mean to pass `assign=True` to assign items in the state dictionary to their corresponding key in the module instead of copying them in place?)\n",
      "  warnings.warn(\n",
      "d:\\miniconda3\\envs\\master-thesis\\Lib\\site-packages\\torch\\nn\\modules\\module.py:2441: UserWarning: for layer1.0.downsample.0.weight: copying from a non-meta parameter in the checkpoint to a meta parameter in the current model, which is a no-op. (Did you mean to pass `assign=True` to assign items in the state dictionary to their corresponding key in the module instead of copying them in place?)\n",
      "  warnings.warn(\n",
      "d:\\miniconda3\\envs\\master-thesis\\Lib\\site-packages\\torch\\nn\\modules\\module.py:2441: UserWarning: for layer1.0.downsample.1.weight: copying from a non-meta parameter in the checkpoint to a meta parameter in the current model, which is a no-op. (Did you mean to pass `assign=True` to assign items in the state dictionary to their corresponding key in the module instead of copying them in place?)\n",
      "  warnings.warn(\n",
      "d:\\miniconda3\\envs\\master-thesis\\Lib\\site-packages\\torch\\nn\\modules\\module.py:2441: UserWarning: for layer1.0.downsample.1.bias: copying from a non-meta parameter in the checkpoint to a meta parameter in the current model, which is a no-op. (Did you mean to pass `assign=True` to assign items in the state dictionary to their corresponding key in the module instead of copying them in place?)\n",
      "  warnings.warn(\n",
      "d:\\miniconda3\\envs\\master-thesis\\Lib\\site-packages\\torch\\nn\\modules\\module.py:2441: UserWarning: for layer1.1.conv1.weight: copying from a non-meta parameter in the checkpoint to a meta parameter in the current model, which is a no-op. (Did you mean to pass `assign=True` to assign items in the state dictionary to their corresponding key in the module instead of copying them in place?)\n",
      "  warnings.warn(\n",
      "d:\\miniconda3\\envs\\master-thesis\\Lib\\site-packages\\torch\\nn\\modules\\module.py:2441: UserWarning: for layer1.1.bn1.weight: copying from a non-meta parameter in the checkpoint to a meta parameter in the current model, which is a no-op. (Did you mean to pass `assign=True` to assign items in the state dictionary to their corresponding key in the module instead of copying them in place?)\n",
      "  warnings.warn(\n",
      "d:\\miniconda3\\envs\\master-thesis\\Lib\\site-packages\\torch\\nn\\modules\\module.py:2441: UserWarning: for layer1.1.bn1.bias: copying from a non-meta parameter in the checkpoint to a meta parameter in the current model, which is a no-op. (Did you mean to pass `assign=True` to assign items in the state dictionary to their corresponding key in the module instead of copying them in place?)\n",
      "  warnings.warn(\n",
      "d:\\miniconda3\\envs\\master-thesis\\Lib\\site-packages\\torch\\nn\\modules\\module.py:2441: UserWarning: for layer1.1.conv2.weight: copying from a non-meta parameter in the checkpoint to a meta parameter in the current model, which is a no-op. (Did you mean to pass `assign=True` to assign items in the state dictionary to their corresponding key in the module instead of copying them in place?)\n",
      "  warnings.warn(\n",
      "d:\\miniconda3\\envs\\master-thesis\\Lib\\site-packages\\torch\\nn\\modules\\module.py:2441: UserWarning: for layer1.1.bn2.weight: copying from a non-meta parameter in the checkpoint to a meta parameter in the current model, which is a no-op. (Did you mean to pass `assign=True` to assign items in the state dictionary to their corresponding key in the module instead of copying them in place?)\n",
      "  warnings.warn(\n",
      "d:\\miniconda3\\envs\\master-thesis\\Lib\\site-packages\\torch\\nn\\modules\\module.py:2441: UserWarning: for layer1.1.bn2.bias: copying from a non-meta parameter in the checkpoint to a meta parameter in the current model, which is a no-op. (Did you mean to pass `assign=True` to assign items in the state dictionary to their corresponding key in the module instead of copying them in place?)\n",
      "  warnings.warn(\n",
      "d:\\miniconda3\\envs\\master-thesis\\Lib\\site-packages\\torch\\nn\\modules\\module.py:2441: UserWarning: for layer1.1.conv3.weight: copying from a non-meta parameter in the checkpoint to a meta parameter in the current model, which is a no-op. (Did you mean to pass `assign=True` to assign items in the state dictionary to their corresponding key in the module instead of copying them in place?)\n",
      "  warnings.warn(\n",
      "d:\\miniconda3\\envs\\master-thesis\\Lib\\site-packages\\torch\\nn\\modules\\module.py:2441: UserWarning: for layer1.1.bn3.weight: copying from a non-meta parameter in the checkpoint to a meta parameter in the current model, which is a no-op. (Did you mean to pass `assign=True` to assign items in the state dictionary to their corresponding key in the module instead of copying them in place?)\n",
      "  warnings.warn(\n",
      "d:\\miniconda3\\envs\\master-thesis\\Lib\\site-packages\\torch\\nn\\modules\\module.py:2441: UserWarning: for layer1.1.bn3.bias: copying from a non-meta parameter in the checkpoint to a meta parameter in the current model, which is a no-op. (Did you mean to pass `assign=True` to assign items in the state dictionary to their corresponding key in the module instead of copying them in place?)\n",
      "  warnings.warn(\n",
      "d:\\miniconda3\\envs\\master-thesis\\Lib\\site-packages\\torch\\nn\\modules\\module.py:2441: UserWarning: for layer1.2.conv1.weight: copying from a non-meta parameter in the checkpoint to a meta parameter in the current model, which is a no-op. (Did you mean to pass `assign=True` to assign items in the state dictionary to their corresponding key in the module instead of copying them in place?)\n",
      "  warnings.warn(\n",
      "d:\\miniconda3\\envs\\master-thesis\\Lib\\site-packages\\torch\\nn\\modules\\module.py:2441: UserWarning: for layer1.2.bn1.weight: copying from a non-meta parameter in the checkpoint to a meta parameter in the current model, which is a no-op. (Did you mean to pass `assign=True` to assign items in the state dictionary to their corresponding key in the module instead of copying them in place?)\n",
      "  warnings.warn(\n",
      "d:\\miniconda3\\envs\\master-thesis\\Lib\\site-packages\\torch\\nn\\modules\\module.py:2441: UserWarning: for layer1.2.bn1.bias: copying from a non-meta parameter in the checkpoint to a meta parameter in the current model, which is a no-op. (Did you mean to pass `assign=True` to assign items in the state dictionary to their corresponding key in the module instead of copying them in place?)\n",
      "  warnings.warn(\n",
      "d:\\miniconda3\\envs\\master-thesis\\Lib\\site-packages\\torch\\nn\\modules\\module.py:2441: UserWarning: for layer1.2.conv2.weight: copying from a non-meta parameter in the checkpoint to a meta parameter in the current model, which is a no-op. (Did you mean to pass `assign=True` to assign items in the state dictionary to their corresponding key in the module instead of copying them in place?)\n",
      "  warnings.warn(\n",
      "d:\\miniconda3\\envs\\master-thesis\\Lib\\site-packages\\torch\\nn\\modules\\module.py:2441: UserWarning: for layer1.2.bn2.weight: copying from a non-meta parameter in the checkpoint to a meta parameter in the current model, which is a no-op. (Did you mean to pass `assign=True` to assign items in the state dictionary to their corresponding key in the module instead of copying them in place?)\n",
      "  warnings.warn(\n",
      "d:\\miniconda3\\envs\\master-thesis\\Lib\\site-packages\\torch\\nn\\modules\\module.py:2441: UserWarning: for layer1.2.bn2.bias: copying from a non-meta parameter in the checkpoint to a meta parameter in the current model, which is a no-op. (Did you mean to pass `assign=True` to assign items in the state dictionary to their corresponding key in the module instead of copying them in place?)\n",
      "  warnings.warn(\n",
      "d:\\miniconda3\\envs\\master-thesis\\Lib\\site-packages\\torch\\nn\\modules\\module.py:2441: UserWarning: for layer1.2.conv3.weight: copying from a non-meta parameter in the checkpoint to a meta parameter in the current model, which is a no-op. (Did you mean to pass `assign=True` to assign items in the state dictionary to their corresponding key in the module instead of copying them in place?)\n",
      "  warnings.warn(\n",
      "d:\\miniconda3\\envs\\master-thesis\\Lib\\site-packages\\torch\\nn\\modules\\module.py:2441: UserWarning: for layer1.2.bn3.weight: copying from a non-meta parameter in the checkpoint to a meta parameter in the current model, which is a no-op. (Did you mean to pass `assign=True` to assign items in the state dictionary to their corresponding key in the module instead of copying them in place?)\n",
      "  warnings.warn(\n",
      "d:\\miniconda3\\envs\\master-thesis\\Lib\\site-packages\\torch\\nn\\modules\\module.py:2441: UserWarning: for layer1.2.bn3.bias: copying from a non-meta parameter in the checkpoint to a meta parameter in the current model, which is a no-op. (Did you mean to pass `assign=True` to assign items in the state dictionary to their corresponding key in the module instead of copying them in place?)\n",
      "  warnings.warn(\n",
      "d:\\miniconda3\\envs\\master-thesis\\Lib\\site-packages\\torch\\nn\\modules\\module.py:2441: UserWarning: for layer2.0.conv1.weight: copying from a non-meta parameter in the checkpoint to a meta parameter in the current model, which is a no-op. (Did you mean to pass `assign=True` to assign items in the state dictionary to their corresponding key in the module instead of copying them in place?)\n",
      "  warnings.warn(\n",
      "d:\\miniconda3\\envs\\master-thesis\\Lib\\site-packages\\torch\\nn\\modules\\module.py:2441: UserWarning: for layer2.0.bn1.weight: copying from a non-meta parameter in the checkpoint to a meta parameter in the current model, which is a no-op. (Did you mean to pass `assign=True` to assign items in the state dictionary to their corresponding key in the module instead of copying them in place?)\n",
      "  warnings.warn(\n",
      "d:\\miniconda3\\envs\\master-thesis\\Lib\\site-packages\\torch\\nn\\modules\\module.py:2441: UserWarning: for layer2.0.bn1.bias: copying from a non-meta parameter in the checkpoint to a meta parameter in the current model, which is a no-op. (Did you mean to pass `assign=True` to assign items in the state dictionary to their corresponding key in the module instead of copying them in place?)\n",
      "  warnings.warn(\n",
      "d:\\miniconda3\\envs\\master-thesis\\Lib\\site-packages\\torch\\nn\\modules\\module.py:2441: UserWarning: for layer2.0.conv2.weight: copying from a non-meta parameter in the checkpoint to a meta parameter in the current model, which is a no-op. (Did you mean to pass `assign=True` to assign items in the state dictionary to their corresponding key in the module instead of copying them in place?)\n",
      "  warnings.warn(\n",
      "d:\\miniconda3\\envs\\master-thesis\\Lib\\site-packages\\torch\\nn\\modules\\module.py:2441: UserWarning: for layer2.0.bn2.weight: copying from a non-meta parameter in the checkpoint to a meta parameter in the current model, which is a no-op. (Did you mean to pass `assign=True` to assign items in the state dictionary to their corresponding key in the module instead of copying them in place?)\n",
      "  warnings.warn(\n",
      "d:\\miniconda3\\envs\\master-thesis\\Lib\\site-packages\\torch\\nn\\modules\\module.py:2441: UserWarning: for layer2.0.bn2.bias: copying from a non-meta parameter in the checkpoint to a meta parameter in the current model, which is a no-op. (Did you mean to pass `assign=True` to assign items in the state dictionary to their corresponding key in the module instead of copying them in place?)\n",
      "  warnings.warn(\n",
      "d:\\miniconda3\\envs\\master-thesis\\Lib\\site-packages\\torch\\nn\\modules\\module.py:2441: UserWarning: for layer2.0.conv3.weight: copying from a non-meta parameter in the checkpoint to a meta parameter in the current model, which is a no-op. (Did you mean to pass `assign=True` to assign items in the state dictionary to their corresponding key in the module instead of copying them in place?)\n",
      "  warnings.warn(\n",
      "d:\\miniconda3\\envs\\master-thesis\\Lib\\site-packages\\torch\\nn\\modules\\module.py:2441: UserWarning: for layer2.0.bn3.weight: copying from a non-meta parameter in the checkpoint to a meta parameter in the current model, which is a no-op. (Did you mean to pass `assign=True` to assign items in the state dictionary to their corresponding key in the module instead of copying them in place?)\n",
      "  warnings.warn(\n",
      "d:\\miniconda3\\envs\\master-thesis\\Lib\\site-packages\\torch\\nn\\modules\\module.py:2441: UserWarning: for layer2.0.bn3.bias: copying from a non-meta parameter in the checkpoint to a meta parameter in the current model, which is a no-op. (Did you mean to pass `assign=True` to assign items in the state dictionary to their corresponding key in the module instead of copying them in place?)\n",
      "  warnings.warn(\n",
      "d:\\miniconda3\\envs\\master-thesis\\Lib\\site-packages\\torch\\nn\\modules\\module.py:2441: UserWarning: for layer2.0.downsample.0.weight: copying from a non-meta parameter in the checkpoint to a meta parameter in the current model, which is a no-op. (Did you mean to pass `assign=True` to assign items in the state dictionary to their corresponding key in the module instead of copying them in place?)\n",
      "  warnings.warn(\n",
      "d:\\miniconda3\\envs\\master-thesis\\Lib\\site-packages\\torch\\nn\\modules\\module.py:2441: UserWarning: for layer2.0.downsample.1.weight: copying from a non-meta parameter in the checkpoint to a meta parameter in the current model, which is a no-op. (Did you mean to pass `assign=True` to assign items in the state dictionary to their corresponding key in the module instead of copying them in place?)\n",
      "  warnings.warn(\n",
      "d:\\miniconda3\\envs\\master-thesis\\Lib\\site-packages\\torch\\nn\\modules\\module.py:2441: UserWarning: for layer2.0.downsample.1.bias: copying from a non-meta parameter in the checkpoint to a meta parameter in the current model, which is a no-op. (Did you mean to pass `assign=True` to assign items in the state dictionary to their corresponding key in the module instead of copying them in place?)\n",
      "  warnings.warn(\n",
      "d:\\miniconda3\\envs\\master-thesis\\Lib\\site-packages\\torch\\nn\\modules\\module.py:2441: UserWarning: for layer2.1.conv1.weight: copying from a non-meta parameter in the checkpoint to a meta parameter in the current model, which is a no-op. (Did you mean to pass `assign=True` to assign items in the state dictionary to their corresponding key in the module instead of copying them in place?)\n",
      "  warnings.warn(\n",
      "d:\\miniconda3\\envs\\master-thesis\\Lib\\site-packages\\torch\\nn\\modules\\module.py:2441: UserWarning: for layer2.1.bn1.weight: copying from a non-meta parameter in the checkpoint to a meta parameter in the current model, which is a no-op. (Did you mean to pass `assign=True` to assign items in the state dictionary to their corresponding key in the module instead of copying them in place?)\n",
      "  warnings.warn(\n",
      "d:\\miniconda3\\envs\\master-thesis\\Lib\\site-packages\\torch\\nn\\modules\\module.py:2441: UserWarning: for layer2.1.bn1.bias: copying from a non-meta parameter in the checkpoint to a meta parameter in the current model, which is a no-op. (Did you mean to pass `assign=True` to assign items in the state dictionary to their corresponding key in the module instead of copying them in place?)\n",
      "  warnings.warn(\n",
      "d:\\miniconda3\\envs\\master-thesis\\Lib\\site-packages\\torch\\nn\\modules\\module.py:2441: UserWarning: for layer2.1.conv2.weight: copying from a non-meta parameter in the checkpoint to a meta parameter in the current model, which is a no-op. (Did you mean to pass `assign=True` to assign items in the state dictionary to their corresponding key in the module instead of copying them in place?)\n",
      "  warnings.warn(\n",
      "d:\\miniconda3\\envs\\master-thesis\\Lib\\site-packages\\torch\\nn\\modules\\module.py:2441: UserWarning: for layer2.1.bn2.weight: copying from a non-meta parameter in the checkpoint to a meta parameter in the current model, which is a no-op. (Did you mean to pass `assign=True` to assign items in the state dictionary to their corresponding key in the module instead of copying them in place?)\n",
      "  warnings.warn(\n",
      "d:\\miniconda3\\envs\\master-thesis\\Lib\\site-packages\\torch\\nn\\modules\\module.py:2441: UserWarning: for layer2.1.bn2.bias: copying from a non-meta parameter in the checkpoint to a meta parameter in the current model, which is a no-op. (Did you mean to pass `assign=True` to assign items in the state dictionary to their corresponding key in the module instead of copying them in place?)\n",
      "  warnings.warn(\n",
      "d:\\miniconda3\\envs\\master-thesis\\Lib\\site-packages\\torch\\nn\\modules\\module.py:2441: UserWarning: for layer2.1.conv3.weight: copying from a non-meta parameter in the checkpoint to a meta parameter in the current model, which is a no-op. (Did you mean to pass `assign=True` to assign items in the state dictionary to their corresponding key in the module instead of copying them in place?)\n",
      "  warnings.warn(\n",
      "d:\\miniconda3\\envs\\master-thesis\\Lib\\site-packages\\torch\\nn\\modules\\module.py:2441: UserWarning: for layer2.1.bn3.weight: copying from a non-meta parameter in the checkpoint to a meta parameter in the current model, which is a no-op. (Did you mean to pass `assign=True` to assign items in the state dictionary to their corresponding key in the module instead of copying them in place?)\n",
      "  warnings.warn(\n",
      "d:\\miniconda3\\envs\\master-thesis\\Lib\\site-packages\\torch\\nn\\modules\\module.py:2441: UserWarning: for layer2.1.bn3.bias: copying from a non-meta parameter in the checkpoint to a meta parameter in the current model, which is a no-op. (Did you mean to pass `assign=True` to assign items in the state dictionary to their corresponding key in the module instead of copying them in place?)\n",
      "  warnings.warn(\n",
      "d:\\miniconda3\\envs\\master-thesis\\Lib\\site-packages\\torch\\nn\\modules\\module.py:2441: UserWarning: for layer2.2.conv1.weight: copying from a non-meta parameter in the checkpoint to a meta parameter in the current model, which is a no-op. (Did you mean to pass `assign=True` to assign items in the state dictionary to their corresponding key in the module instead of copying them in place?)\n",
      "  warnings.warn(\n",
      "d:\\miniconda3\\envs\\master-thesis\\Lib\\site-packages\\torch\\nn\\modules\\module.py:2441: UserWarning: for layer2.2.bn1.weight: copying from a non-meta parameter in the checkpoint to a meta parameter in the current model, which is a no-op. (Did you mean to pass `assign=True` to assign items in the state dictionary to their corresponding key in the module instead of copying them in place?)\n",
      "  warnings.warn(\n",
      "d:\\miniconda3\\envs\\master-thesis\\Lib\\site-packages\\torch\\nn\\modules\\module.py:2441: UserWarning: for layer2.2.bn1.bias: copying from a non-meta parameter in the checkpoint to a meta parameter in the current model, which is a no-op. (Did you mean to pass `assign=True` to assign items in the state dictionary to their corresponding key in the module instead of copying them in place?)\n",
      "  warnings.warn(\n",
      "d:\\miniconda3\\envs\\master-thesis\\Lib\\site-packages\\torch\\nn\\modules\\module.py:2441: UserWarning: for layer2.2.conv2.weight: copying from a non-meta parameter in the checkpoint to a meta parameter in the current model, which is a no-op. (Did you mean to pass `assign=True` to assign items in the state dictionary to their corresponding key in the module instead of copying them in place?)\n",
      "  warnings.warn(\n",
      "d:\\miniconda3\\envs\\master-thesis\\Lib\\site-packages\\torch\\nn\\modules\\module.py:2441: UserWarning: for layer2.2.bn2.weight: copying from a non-meta parameter in the checkpoint to a meta parameter in the current model, which is a no-op. (Did you mean to pass `assign=True` to assign items in the state dictionary to their corresponding key in the module instead of copying them in place?)\n",
      "  warnings.warn(\n",
      "d:\\miniconda3\\envs\\master-thesis\\Lib\\site-packages\\torch\\nn\\modules\\module.py:2441: UserWarning: for layer2.2.bn2.bias: copying from a non-meta parameter in the checkpoint to a meta parameter in the current model, which is a no-op. (Did you mean to pass `assign=True` to assign items in the state dictionary to their corresponding key in the module instead of copying them in place?)\n",
      "  warnings.warn(\n",
      "d:\\miniconda3\\envs\\master-thesis\\Lib\\site-packages\\torch\\nn\\modules\\module.py:2441: UserWarning: for layer2.2.conv3.weight: copying from a non-meta parameter in the checkpoint to a meta parameter in the current model, which is a no-op. (Did you mean to pass `assign=True` to assign items in the state dictionary to their corresponding key in the module instead of copying them in place?)\n",
      "  warnings.warn(\n",
      "d:\\miniconda3\\envs\\master-thesis\\Lib\\site-packages\\torch\\nn\\modules\\module.py:2441: UserWarning: for layer2.2.bn3.weight: copying from a non-meta parameter in the checkpoint to a meta parameter in the current model, which is a no-op. (Did you mean to pass `assign=True` to assign items in the state dictionary to their corresponding key in the module instead of copying them in place?)\n",
      "  warnings.warn(\n",
      "d:\\miniconda3\\envs\\master-thesis\\Lib\\site-packages\\torch\\nn\\modules\\module.py:2441: UserWarning: for layer2.2.bn3.bias: copying from a non-meta parameter in the checkpoint to a meta parameter in the current model, which is a no-op. (Did you mean to pass `assign=True` to assign items in the state dictionary to their corresponding key in the module instead of copying them in place?)\n",
      "  warnings.warn(\n",
      "d:\\miniconda3\\envs\\master-thesis\\Lib\\site-packages\\torch\\nn\\modules\\module.py:2441: UserWarning: for layer2.3.conv1.weight: copying from a non-meta parameter in the checkpoint to a meta parameter in the current model, which is a no-op. (Did you mean to pass `assign=True` to assign items in the state dictionary to their corresponding key in the module instead of copying them in place?)\n",
      "  warnings.warn(\n",
      "d:\\miniconda3\\envs\\master-thesis\\Lib\\site-packages\\torch\\nn\\modules\\module.py:2441: UserWarning: for layer2.3.bn1.weight: copying from a non-meta parameter in the checkpoint to a meta parameter in the current model, which is a no-op. (Did you mean to pass `assign=True` to assign items in the state dictionary to their corresponding key in the module instead of copying them in place?)\n",
      "  warnings.warn(\n",
      "d:\\miniconda3\\envs\\master-thesis\\Lib\\site-packages\\torch\\nn\\modules\\module.py:2441: UserWarning: for layer2.3.bn1.bias: copying from a non-meta parameter in the checkpoint to a meta parameter in the current model, which is a no-op. (Did you mean to pass `assign=True` to assign items in the state dictionary to their corresponding key in the module instead of copying them in place?)\n",
      "  warnings.warn(\n",
      "d:\\miniconda3\\envs\\master-thesis\\Lib\\site-packages\\torch\\nn\\modules\\module.py:2441: UserWarning: for layer2.3.conv2.weight: copying from a non-meta parameter in the checkpoint to a meta parameter in the current model, which is a no-op. (Did you mean to pass `assign=True` to assign items in the state dictionary to their corresponding key in the module instead of copying them in place?)\n",
      "  warnings.warn(\n",
      "d:\\miniconda3\\envs\\master-thesis\\Lib\\site-packages\\torch\\nn\\modules\\module.py:2441: UserWarning: for layer2.3.bn2.weight: copying from a non-meta parameter in the checkpoint to a meta parameter in the current model, which is a no-op. (Did you mean to pass `assign=True` to assign items in the state dictionary to their corresponding key in the module instead of copying them in place?)\n",
      "  warnings.warn(\n",
      "d:\\miniconda3\\envs\\master-thesis\\Lib\\site-packages\\torch\\nn\\modules\\module.py:2441: UserWarning: for layer2.3.bn2.bias: copying from a non-meta parameter in the checkpoint to a meta parameter in the current model, which is a no-op. (Did you mean to pass `assign=True` to assign items in the state dictionary to their corresponding key in the module instead of copying them in place?)\n",
      "  warnings.warn(\n",
      "d:\\miniconda3\\envs\\master-thesis\\Lib\\site-packages\\torch\\nn\\modules\\module.py:2441: UserWarning: for layer2.3.conv3.weight: copying from a non-meta parameter in the checkpoint to a meta parameter in the current model, which is a no-op. (Did you mean to pass `assign=True` to assign items in the state dictionary to their corresponding key in the module instead of copying them in place?)\n",
      "  warnings.warn(\n",
      "d:\\miniconda3\\envs\\master-thesis\\Lib\\site-packages\\torch\\nn\\modules\\module.py:2441: UserWarning: for layer2.3.bn3.weight: copying from a non-meta parameter in the checkpoint to a meta parameter in the current model, which is a no-op. (Did you mean to pass `assign=True` to assign items in the state dictionary to their corresponding key in the module instead of copying them in place?)\n",
      "  warnings.warn(\n",
      "d:\\miniconda3\\envs\\master-thesis\\Lib\\site-packages\\torch\\nn\\modules\\module.py:2441: UserWarning: for layer2.3.bn3.bias: copying from a non-meta parameter in the checkpoint to a meta parameter in the current model, which is a no-op. (Did you mean to pass `assign=True` to assign items in the state dictionary to their corresponding key in the module instead of copying them in place?)\n",
      "  warnings.warn(\n",
      "d:\\miniconda3\\envs\\master-thesis\\Lib\\site-packages\\torch\\nn\\modules\\module.py:2441: UserWarning: for layer3.0.conv1.weight: copying from a non-meta parameter in the checkpoint to a meta parameter in the current model, which is a no-op. (Did you mean to pass `assign=True` to assign items in the state dictionary to their corresponding key in the module instead of copying them in place?)\n",
      "  warnings.warn(\n",
      "d:\\miniconda3\\envs\\master-thesis\\Lib\\site-packages\\torch\\nn\\modules\\module.py:2441: UserWarning: for layer3.0.bn1.weight: copying from a non-meta parameter in the checkpoint to a meta parameter in the current model, which is a no-op. (Did you mean to pass `assign=True` to assign items in the state dictionary to their corresponding key in the module instead of copying them in place?)\n",
      "  warnings.warn(\n",
      "d:\\miniconda3\\envs\\master-thesis\\Lib\\site-packages\\torch\\nn\\modules\\module.py:2441: UserWarning: for layer3.0.bn1.bias: copying from a non-meta parameter in the checkpoint to a meta parameter in the current model, which is a no-op. (Did you mean to pass `assign=True` to assign items in the state dictionary to their corresponding key in the module instead of copying them in place?)\n",
      "  warnings.warn(\n",
      "d:\\miniconda3\\envs\\master-thesis\\Lib\\site-packages\\torch\\nn\\modules\\module.py:2441: UserWarning: for layer3.0.conv2.weight: copying from a non-meta parameter in the checkpoint to a meta parameter in the current model, which is a no-op. (Did you mean to pass `assign=True` to assign items in the state dictionary to their corresponding key in the module instead of copying them in place?)\n",
      "  warnings.warn(\n",
      "d:\\miniconda3\\envs\\master-thesis\\Lib\\site-packages\\torch\\nn\\modules\\module.py:2441: UserWarning: for layer3.0.bn2.weight: copying from a non-meta parameter in the checkpoint to a meta parameter in the current model, which is a no-op. (Did you mean to pass `assign=True` to assign items in the state dictionary to their corresponding key in the module instead of copying them in place?)\n",
      "  warnings.warn(\n",
      "d:\\miniconda3\\envs\\master-thesis\\Lib\\site-packages\\torch\\nn\\modules\\module.py:2441: UserWarning: for layer3.0.bn2.bias: copying from a non-meta parameter in the checkpoint to a meta parameter in the current model, which is a no-op. (Did you mean to pass `assign=True` to assign items in the state dictionary to their corresponding key in the module instead of copying them in place?)\n",
      "  warnings.warn(\n",
      "d:\\miniconda3\\envs\\master-thesis\\Lib\\site-packages\\torch\\nn\\modules\\module.py:2441: UserWarning: for layer3.0.conv3.weight: copying from a non-meta parameter in the checkpoint to a meta parameter in the current model, which is a no-op. (Did you mean to pass `assign=True` to assign items in the state dictionary to their corresponding key in the module instead of copying them in place?)\n",
      "  warnings.warn(\n",
      "d:\\miniconda3\\envs\\master-thesis\\Lib\\site-packages\\torch\\nn\\modules\\module.py:2441: UserWarning: for layer3.0.bn3.weight: copying from a non-meta parameter in the checkpoint to a meta parameter in the current model, which is a no-op. (Did you mean to pass `assign=True` to assign items in the state dictionary to their corresponding key in the module instead of copying them in place?)\n",
      "  warnings.warn(\n",
      "d:\\miniconda3\\envs\\master-thesis\\Lib\\site-packages\\torch\\nn\\modules\\module.py:2441: UserWarning: for layer3.0.bn3.bias: copying from a non-meta parameter in the checkpoint to a meta parameter in the current model, which is a no-op. (Did you mean to pass `assign=True` to assign items in the state dictionary to their corresponding key in the module instead of copying them in place?)\n",
      "  warnings.warn(\n",
      "d:\\miniconda3\\envs\\master-thesis\\Lib\\site-packages\\torch\\nn\\modules\\module.py:2441: UserWarning: for layer3.0.downsample.0.weight: copying from a non-meta parameter in the checkpoint to a meta parameter in the current model, which is a no-op. (Did you mean to pass `assign=True` to assign items in the state dictionary to their corresponding key in the module instead of copying them in place?)\n",
      "  warnings.warn(\n",
      "d:\\miniconda3\\envs\\master-thesis\\Lib\\site-packages\\torch\\nn\\modules\\module.py:2441: UserWarning: for layer3.0.downsample.1.weight: copying from a non-meta parameter in the checkpoint to a meta parameter in the current model, which is a no-op. (Did you mean to pass `assign=True` to assign items in the state dictionary to their corresponding key in the module instead of copying them in place?)\n",
      "  warnings.warn(\n",
      "d:\\miniconda3\\envs\\master-thesis\\Lib\\site-packages\\torch\\nn\\modules\\module.py:2441: UserWarning: for layer3.0.downsample.1.bias: copying from a non-meta parameter in the checkpoint to a meta parameter in the current model, which is a no-op. (Did you mean to pass `assign=True` to assign items in the state dictionary to their corresponding key in the module instead of copying them in place?)\n",
      "  warnings.warn(\n",
      "d:\\miniconda3\\envs\\master-thesis\\Lib\\site-packages\\torch\\nn\\modules\\module.py:2441: UserWarning: for layer3.1.conv1.weight: copying from a non-meta parameter in the checkpoint to a meta parameter in the current model, which is a no-op. (Did you mean to pass `assign=True` to assign items in the state dictionary to their corresponding key in the module instead of copying them in place?)\n",
      "  warnings.warn(\n",
      "d:\\miniconda3\\envs\\master-thesis\\Lib\\site-packages\\torch\\nn\\modules\\module.py:2441: UserWarning: for layer3.1.bn1.weight: copying from a non-meta parameter in the checkpoint to a meta parameter in the current model, which is a no-op. (Did you mean to pass `assign=True` to assign items in the state dictionary to their corresponding key in the module instead of copying them in place?)\n",
      "  warnings.warn(\n",
      "d:\\miniconda3\\envs\\master-thesis\\Lib\\site-packages\\torch\\nn\\modules\\module.py:2441: UserWarning: for layer3.1.bn1.bias: copying from a non-meta parameter in the checkpoint to a meta parameter in the current model, which is a no-op. (Did you mean to pass `assign=True` to assign items in the state dictionary to their corresponding key in the module instead of copying them in place?)\n",
      "  warnings.warn(\n",
      "d:\\miniconda3\\envs\\master-thesis\\Lib\\site-packages\\torch\\nn\\modules\\module.py:2441: UserWarning: for layer3.1.conv2.weight: copying from a non-meta parameter in the checkpoint to a meta parameter in the current model, which is a no-op. (Did you mean to pass `assign=True` to assign items in the state dictionary to their corresponding key in the module instead of copying them in place?)\n",
      "  warnings.warn(\n",
      "d:\\miniconda3\\envs\\master-thesis\\Lib\\site-packages\\torch\\nn\\modules\\module.py:2441: UserWarning: for layer3.1.bn2.weight: copying from a non-meta parameter in the checkpoint to a meta parameter in the current model, which is a no-op. (Did you mean to pass `assign=True` to assign items in the state dictionary to their corresponding key in the module instead of copying them in place?)\n",
      "  warnings.warn(\n",
      "d:\\miniconda3\\envs\\master-thesis\\Lib\\site-packages\\torch\\nn\\modules\\module.py:2441: UserWarning: for layer3.1.bn2.bias: copying from a non-meta parameter in the checkpoint to a meta parameter in the current model, which is a no-op. (Did you mean to pass `assign=True` to assign items in the state dictionary to their corresponding key in the module instead of copying them in place?)\n",
      "  warnings.warn(\n",
      "d:\\miniconda3\\envs\\master-thesis\\Lib\\site-packages\\torch\\nn\\modules\\module.py:2441: UserWarning: for layer3.1.conv3.weight: copying from a non-meta parameter in the checkpoint to a meta parameter in the current model, which is a no-op. (Did you mean to pass `assign=True` to assign items in the state dictionary to their corresponding key in the module instead of copying them in place?)\n",
      "  warnings.warn(\n",
      "d:\\miniconda3\\envs\\master-thesis\\Lib\\site-packages\\torch\\nn\\modules\\module.py:2441: UserWarning: for layer3.1.bn3.weight: copying from a non-meta parameter in the checkpoint to a meta parameter in the current model, which is a no-op. (Did you mean to pass `assign=True` to assign items in the state dictionary to their corresponding key in the module instead of copying them in place?)\n",
      "  warnings.warn(\n",
      "d:\\miniconda3\\envs\\master-thesis\\Lib\\site-packages\\torch\\nn\\modules\\module.py:2441: UserWarning: for layer3.1.bn3.bias: copying from a non-meta parameter in the checkpoint to a meta parameter in the current model, which is a no-op. (Did you mean to pass `assign=True` to assign items in the state dictionary to their corresponding key in the module instead of copying them in place?)\n",
      "  warnings.warn(\n",
      "d:\\miniconda3\\envs\\master-thesis\\Lib\\site-packages\\torch\\nn\\modules\\module.py:2441: UserWarning: for layer3.2.conv1.weight: copying from a non-meta parameter in the checkpoint to a meta parameter in the current model, which is a no-op. (Did you mean to pass `assign=True` to assign items in the state dictionary to their corresponding key in the module instead of copying them in place?)\n",
      "  warnings.warn(\n",
      "d:\\miniconda3\\envs\\master-thesis\\Lib\\site-packages\\torch\\nn\\modules\\module.py:2441: UserWarning: for layer3.2.bn1.weight: copying from a non-meta parameter in the checkpoint to a meta parameter in the current model, which is a no-op. (Did you mean to pass `assign=True` to assign items in the state dictionary to their corresponding key in the module instead of copying them in place?)\n",
      "  warnings.warn(\n",
      "d:\\miniconda3\\envs\\master-thesis\\Lib\\site-packages\\torch\\nn\\modules\\module.py:2441: UserWarning: for layer3.2.bn1.bias: copying from a non-meta parameter in the checkpoint to a meta parameter in the current model, which is a no-op. (Did you mean to pass `assign=True` to assign items in the state dictionary to their corresponding key in the module instead of copying them in place?)\n",
      "  warnings.warn(\n",
      "d:\\miniconda3\\envs\\master-thesis\\Lib\\site-packages\\torch\\nn\\modules\\module.py:2441: UserWarning: for layer3.2.conv2.weight: copying from a non-meta parameter in the checkpoint to a meta parameter in the current model, which is a no-op. (Did you mean to pass `assign=True` to assign items in the state dictionary to their corresponding key in the module instead of copying them in place?)\n",
      "  warnings.warn(\n",
      "d:\\miniconda3\\envs\\master-thesis\\Lib\\site-packages\\torch\\nn\\modules\\module.py:2441: UserWarning: for layer3.2.bn2.weight: copying from a non-meta parameter in the checkpoint to a meta parameter in the current model, which is a no-op. (Did you mean to pass `assign=True` to assign items in the state dictionary to their corresponding key in the module instead of copying them in place?)\n",
      "  warnings.warn(\n",
      "d:\\miniconda3\\envs\\master-thesis\\Lib\\site-packages\\torch\\nn\\modules\\module.py:2441: UserWarning: for layer3.2.bn2.bias: copying from a non-meta parameter in the checkpoint to a meta parameter in the current model, which is a no-op. (Did you mean to pass `assign=True` to assign items in the state dictionary to their corresponding key in the module instead of copying them in place?)\n",
      "  warnings.warn(\n",
      "d:\\miniconda3\\envs\\master-thesis\\Lib\\site-packages\\torch\\nn\\modules\\module.py:2441: UserWarning: for layer3.2.conv3.weight: copying from a non-meta parameter in the checkpoint to a meta parameter in the current model, which is a no-op. (Did you mean to pass `assign=True` to assign items in the state dictionary to their corresponding key in the module instead of copying them in place?)\n",
      "  warnings.warn(\n",
      "d:\\miniconda3\\envs\\master-thesis\\Lib\\site-packages\\torch\\nn\\modules\\module.py:2441: UserWarning: for layer3.2.bn3.weight: copying from a non-meta parameter in the checkpoint to a meta parameter in the current model, which is a no-op. (Did you mean to pass `assign=True` to assign items in the state dictionary to their corresponding key in the module instead of copying them in place?)\n",
      "  warnings.warn(\n",
      "d:\\miniconda3\\envs\\master-thesis\\Lib\\site-packages\\torch\\nn\\modules\\module.py:2441: UserWarning: for layer3.2.bn3.bias: copying from a non-meta parameter in the checkpoint to a meta parameter in the current model, which is a no-op. (Did you mean to pass `assign=True` to assign items in the state dictionary to their corresponding key in the module instead of copying them in place?)\n",
      "  warnings.warn(\n",
      "d:\\miniconda3\\envs\\master-thesis\\Lib\\site-packages\\torch\\nn\\modules\\module.py:2441: UserWarning: for layer3.3.conv1.weight: copying from a non-meta parameter in the checkpoint to a meta parameter in the current model, which is a no-op. (Did you mean to pass `assign=True` to assign items in the state dictionary to their corresponding key in the module instead of copying them in place?)\n",
      "  warnings.warn(\n",
      "d:\\miniconda3\\envs\\master-thesis\\Lib\\site-packages\\torch\\nn\\modules\\module.py:2441: UserWarning: for layer3.3.bn1.weight: copying from a non-meta parameter in the checkpoint to a meta parameter in the current model, which is a no-op. (Did you mean to pass `assign=True` to assign items in the state dictionary to their corresponding key in the module instead of copying them in place?)\n",
      "  warnings.warn(\n",
      "d:\\miniconda3\\envs\\master-thesis\\Lib\\site-packages\\torch\\nn\\modules\\module.py:2441: UserWarning: for layer3.3.bn1.bias: copying from a non-meta parameter in the checkpoint to a meta parameter in the current model, which is a no-op. (Did you mean to pass `assign=True` to assign items in the state dictionary to their corresponding key in the module instead of copying them in place?)\n",
      "  warnings.warn(\n",
      "d:\\miniconda3\\envs\\master-thesis\\Lib\\site-packages\\torch\\nn\\modules\\module.py:2441: UserWarning: for layer3.3.conv2.weight: copying from a non-meta parameter in the checkpoint to a meta parameter in the current model, which is a no-op. (Did you mean to pass `assign=True` to assign items in the state dictionary to their corresponding key in the module instead of copying them in place?)\n",
      "  warnings.warn(\n",
      "d:\\miniconda3\\envs\\master-thesis\\Lib\\site-packages\\torch\\nn\\modules\\module.py:2441: UserWarning: for layer3.3.bn2.weight: copying from a non-meta parameter in the checkpoint to a meta parameter in the current model, which is a no-op. (Did you mean to pass `assign=True` to assign items in the state dictionary to their corresponding key in the module instead of copying them in place?)\n",
      "  warnings.warn(\n",
      "d:\\miniconda3\\envs\\master-thesis\\Lib\\site-packages\\torch\\nn\\modules\\module.py:2441: UserWarning: for layer3.3.bn2.bias: copying from a non-meta parameter in the checkpoint to a meta parameter in the current model, which is a no-op. (Did you mean to pass `assign=True` to assign items in the state dictionary to their corresponding key in the module instead of copying them in place?)\n",
      "  warnings.warn(\n",
      "d:\\miniconda3\\envs\\master-thesis\\Lib\\site-packages\\torch\\nn\\modules\\module.py:2441: UserWarning: for layer3.3.conv3.weight: copying from a non-meta parameter in the checkpoint to a meta parameter in the current model, which is a no-op. (Did you mean to pass `assign=True` to assign items in the state dictionary to their corresponding key in the module instead of copying them in place?)\n",
      "  warnings.warn(\n",
      "d:\\miniconda3\\envs\\master-thesis\\Lib\\site-packages\\torch\\nn\\modules\\module.py:2441: UserWarning: for layer3.3.bn3.weight: copying from a non-meta parameter in the checkpoint to a meta parameter in the current model, which is a no-op. (Did you mean to pass `assign=True` to assign items in the state dictionary to their corresponding key in the module instead of copying them in place?)\n",
      "  warnings.warn(\n",
      "d:\\miniconda3\\envs\\master-thesis\\Lib\\site-packages\\torch\\nn\\modules\\module.py:2441: UserWarning: for layer3.3.bn3.bias: copying from a non-meta parameter in the checkpoint to a meta parameter in the current model, which is a no-op. (Did you mean to pass `assign=True` to assign items in the state dictionary to their corresponding key in the module instead of copying them in place?)\n",
      "  warnings.warn(\n",
      "d:\\miniconda3\\envs\\master-thesis\\Lib\\site-packages\\torch\\nn\\modules\\module.py:2441: UserWarning: for layer3.4.conv1.weight: copying from a non-meta parameter in the checkpoint to a meta parameter in the current model, which is a no-op. (Did you mean to pass `assign=True` to assign items in the state dictionary to their corresponding key in the module instead of copying them in place?)\n",
      "  warnings.warn(\n",
      "d:\\miniconda3\\envs\\master-thesis\\Lib\\site-packages\\torch\\nn\\modules\\module.py:2441: UserWarning: for layer3.4.bn1.weight: copying from a non-meta parameter in the checkpoint to a meta parameter in the current model, which is a no-op. (Did you mean to pass `assign=True` to assign items in the state dictionary to their corresponding key in the module instead of copying them in place?)\n",
      "  warnings.warn(\n",
      "d:\\miniconda3\\envs\\master-thesis\\Lib\\site-packages\\torch\\nn\\modules\\module.py:2441: UserWarning: for layer3.4.bn1.bias: copying from a non-meta parameter in the checkpoint to a meta parameter in the current model, which is a no-op. (Did you mean to pass `assign=True` to assign items in the state dictionary to their corresponding key in the module instead of copying them in place?)\n",
      "  warnings.warn(\n",
      "d:\\miniconda3\\envs\\master-thesis\\Lib\\site-packages\\torch\\nn\\modules\\module.py:2441: UserWarning: for layer3.4.conv2.weight: copying from a non-meta parameter in the checkpoint to a meta parameter in the current model, which is a no-op. (Did you mean to pass `assign=True` to assign items in the state dictionary to their corresponding key in the module instead of copying them in place?)\n",
      "  warnings.warn(\n",
      "d:\\miniconda3\\envs\\master-thesis\\Lib\\site-packages\\torch\\nn\\modules\\module.py:2441: UserWarning: for layer3.4.bn2.weight: copying from a non-meta parameter in the checkpoint to a meta parameter in the current model, which is a no-op. (Did you mean to pass `assign=True` to assign items in the state dictionary to their corresponding key in the module instead of copying them in place?)\n",
      "  warnings.warn(\n",
      "d:\\miniconda3\\envs\\master-thesis\\Lib\\site-packages\\torch\\nn\\modules\\module.py:2441: UserWarning: for layer3.4.bn2.bias: copying from a non-meta parameter in the checkpoint to a meta parameter in the current model, which is a no-op. (Did you mean to pass `assign=True` to assign items in the state dictionary to their corresponding key in the module instead of copying them in place?)\n",
      "  warnings.warn(\n",
      "d:\\miniconda3\\envs\\master-thesis\\Lib\\site-packages\\torch\\nn\\modules\\module.py:2441: UserWarning: for layer3.4.conv3.weight: copying from a non-meta parameter in the checkpoint to a meta parameter in the current model, which is a no-op. (Did you mean to pass `assign=True` to assign items in the state dictionary to their corresponding key in the module instead of copying them in place?)\n",
      "  warnings.warn(\n",
      "d:\\miniconda3\\envs\\master-thesis\\Lib\\site-packages\\torch\\nn\\modules\\module.py:2441: UserWarning: for layer3.4.bn3.weight: copying from a non-meta parameter in the checkpoint to a meta parameter in the current model, which is a no-op. (Did you mean to pass `assign=True` to assign items in the state dictionary to their corresponding key in the module instead of copying them in place?)\n",
      "  warnings.warn(\n",
      "d:\\miniconda3\\envs\\master-thesis\\Lib\\site-packages\\torch\\nn\\modules\\module.py:2441: UserWarning: for layer3.4.bn3.bias: copying from a non-meta parameter in the checkpoint to a meta parameter in the current model, which is a no-op. (Did you mean to pass `assign=True` to assign items in the state dictionary to their corresponding key in the module instead of copying them in place?)\n",
      "  warnings.warn(\n",
      "d:\\miniconda3\\envs\\master-thesis\\Lib\\site-packages\\torch\\nn\\modules\\module.py:2441: UserWarning: for layer3.5.conv1.weight: copying from a non-meta parameter in the checkpoint to a meta parameter in the current model, which is a no-op. (Did you mean to pass `assign=True` to assign items in the state dictionary to their corresponding key in the module instead of copying them in place?)\n",
      "  warnings.warn(\n",
      "d:\\miniconda3\\envs\\master-thesis\\Lib\\site-packages\\torch\\nn\\modules\\module.py:2441: UserWarning: for layer3.5.bn1.weight: copying from a non-meta parameter in the checkpoint to a meta parameter in the current model, which is a no-op. (Did you mean to pass `assign=True` to assign items in the state dictionary to their corresponding key in the module instead of copying them in place?)\n",
      "  warnings.warn(\n",
      "d:\\miniconda3\\envs\\master-thesis\\Lib\\site-packages\\torch\\nn\\modules\\module.py:2441: UserWarning: for layer3.5.bn1.bias: copying from a non-meta parameter in the checkpoint to a meta parameter in the current model, which is a no-op. (Did you mean to pass `assign=True` to assign items in the state dictionary to their corresponding key in the module instead of copying them in place?)\n",
      "  warnings.warn(\n",
      "d:\\miniconda3\\envs\\master-thesis\\Lib\\site-packages\\torch\\nn\\modules\\module.py:2441: UserWarning: for layer3.5.conv2.weight: copying from a non-meta parameter in the checkpoint to a meta parameter in the current model, which is a no-op. (Did you mean to pass `assign=True` to assign items in the state dictionary to their corresponding key in the module instead of copying them in place?)\n",
      "  warnings.warn(\n",
      "d:\\miniconda3\\envs\\master-thesis\\Lib\\site-packages\\torch\\nn\\modules\\module.py:2441: UserWarning: for layer3.5.bn2.weight: copying from a non-meta parameter in the checkpoint to a meta parameter in the current model, which is a no-op. (Did you mean to pass `assign=True` to assign items in the state dictionary to their corresponding key in the module instead of copying them in place?)\n",
      "  warnings.warn(\n",
      "d:\\miniconda3\\envs\\master-thesis\\Lib\\site-packages\\torch\\nn\\modules\\module.py:2441: UserWarning: for layer3.5.bn2.bias: copying from a non-meta parameter in the checkpoint to a meta parameter in the current model, which is a no-op. (Did you mean to pass `assign=True` to assign items in the state dictionary to their corresponding key in the module instead of copying them in place?)\n",
      "  warnings.warn(\n",
      "d:\\miniconda3\\envs\\master-thesis\\Lib\\site-packages\\torch\\nn\\modules\\module.py:2441: UserWarning: for layer3.5.conv3.weight: copying from a non-meta parameter in the checkpoint to a meta parameter in the current model, which is a no-op. (Did you mean to pass `assign=True` to assign items in the state dictionary to their corresponding key in the module instead of copying them in place?)\n",
      "  warnings.warn(\n",
      "d:\\miniconda3\\envs\\master-thesis\\Lib\\site-packages\\torch\\nn\\modules\\module.py:2441: UserWarning: for layer3.5.bn3.weight: copying from a non-meta parameter in the checkpoint to a meta parameter in the current model, which is a no-op. (Did you mean to pass `assign=True` to assign items in the state dictionary to their corresponding key in the module instead of copying them in place?)\n",
      "  warnings.warn(\n",
      "d:\\miniconda3\\envs\\master-thesis\\Lib\\site-packages\\torch\\nn\\modules\\module.py:2441: UserWarning: for layer3.5.bn3.bias: copying from a non-meta parameter in the checkpoint to a meta parameter in the current model, which is a no-op. (Did you mean to pass `assign=True` to assign items in the state dictionary to their corresponding key in the module instead of copying them in place?)\n",
      "  warnings.warn(\n",
      "d:\\miniconda3\\envs\\master-thesis\\Lib\\site-packages\\torch\\nn\\modules\\module.py:2441: UserWarning: for layer4.0.conv1.weight: copying from a non-meta parameter in the checkpoint to a meta parameter in the current model, which is a no-op. (Did you mean to pass `assign=True` to assign items in the state dictionary to their corresponding key in the module instead of copying them in place?)\n",
      "  warnings.warn(\n",
      "d:\\miniconda3\\envs\\master-thesis\\Lib\\site-packages\\torch\\nn\\modules\\module.py:2441: UserWarning: for layer4.0.bn1.weight: copying from a non-meta parameter in the checkpoint to a meta parameter in the current model, which is a no-op. (Did you mean to pass `assign=True` to assign items in the state dictionary to their corresponding key in the module instead of copying them in place?)\n",
      "  warnings.warn(\n",
      "d:\\miniconda3\\envs\\master-thesis\\Lib\\site-packages\\torch\\nn\\modules\\module.py:2441: UserWarning: for layer4.0.bn1.bias: copying from a non-meta parameter in the checkpoint to a meta parameter in the current model, which is a no-op. (Did you mean to pass `assign=True` to assign items in the state dictionary to their corresponding key in the module instead of copying them in place?)\n",
      "  warnings.warn(\n",
      "d:\\miniconda3\\envs\\master-thesis\\Lib\\site-packages\\torch\\nn\\modules\\module.py:2441: UserWarning: for layer4.0.conv2.weight: copying from a non-meta parameter in the checkpoint to a meta parameter in the current model, which is a no-op. (Did you mean to pass `assign=True` to assign items in the state dictionary to their corresponding key in the module instead of copying them in place?)\n",
      "  warnings.warn(\n",
      "d:\\miniconda3\\envs\\master-thesis\\Lib\\site-packages\\torch\\nn\\modules\\module.py:2441: UserWarning: for layer4.0.bn2.weight: copying from a non-meta parameter in the checkpoint to a meta parameter in the current model, which is a no-op. (Did you mean to pass `assign=True` to assign items in the state dictionary to their corresponding key in the module instead of copying them in place?)\n",
      "  warnings.warn(\n",
      "d:\\miniconda3\\envs\\master-thesis\\Lib\\site-packages\\torch\\nn\\modules\\module.py:2441: UserWarning: for layer4.0.bn2.bias: copying from a non-meta parameter in the checkpoint to a meta parameter in the current model, which is a no-op. (Did you mean to pass `assign=True` to assign items in the state dictionary to their corresponding key in the module instead of copying them in place?)\n",
      "  warnings.warn(\n",
      "d:\\miniconda3\\envs\\master-thesis\\Lib\\site-packages\\torch\\nn\\modules\\module.py:2441: UserWarning: for layer4.0.conv3.weight: copying from a non-meta parameter in the checkpoint to a meta parameter in the current model, which is a no-op. (Did you mean to pass `assign=True` to assign items in the state dictionary to their corresponding key in the module instead of copying them in place?)\n",
      "  warnings.warn(\n",
      "d:\\miniconda3\\envs\\master-thesis\\Lib\\site-packages\\torch\\nn\\modules\\module.py:2441: UserWarning: for layer4.0.bn3.weight: copying from a non-meta parameter in the checkpoint to a meta parameter in the current model, which is a no-op. (Did you mean to pass `assign=True` to assign items in the state dictionary to their corresponding key in the module instead of copying them in place?)\n",
      "  warnings.warn(\n",
      "d:\\miniconda3\\envs\\master-thesis\\Lib\\site-packages\\torch\\nn\\modules\\module.py:2441: UserWarning: for layer4.0.bn3.bias: copying from a non-meta parameter in the checkpoint to a meta parameter in the current model, which is a no-op. (Did you mean to pass `assign=True` to assign items in the state dictionary to their corresponding key in the module instead of copying them in place?)\n",
      "  warnings.warn(\n",
      "d:\\miniconda3\\envs\\master-thesis\\Lib\\site-packages\\torch\\nn\\modules\\module.py:2441: UserWarning: for layer4.0.downsample.0.weight: copying from a non-meta parameter in the checkpoint to a meta parameter in the current model, which is a no-op. (Did you mean to pass `assign=True` to assign items in the state dictionary to their corresponding key in the module instead of copying them in place?)\n",
      "  warnings.warn(\n",
      "d:\\miniconda3\\envs\\master-thesis\\Lib\\site-packages\\torch\\nn\\modules\\module.py:2441: UserWarning: for layer4.0.downsample.1.weight: copying from a non-meta parameter in the checkpoint to a meta parameter in the current model, which is a no-op. (Did you mean to pass `assign=True` to assign items in the state dictionary to their corresponding key in the module instead of copying them in place?)\n",
      "  warnings.warn(\n",
      "d:\\miniconda3\\envs\\master-thesis\\Lib\\site-packages\\torch\\nn\\modules\\module.py:2441: UserWarning: for layer4.0.downsample.1.bias: copying from a non-meta parameter in the checkpoint to a meta parameter in the current model, which is a no-op. (Did you mean to pass `assign=True` to assign items in the state dictionary to their corresponding key in the module instead of copying them in place?)\n",
      "  warnings.warn(\n",
      "d:\\miniconda3\\envs\\master-thesis\\Lib\\site-packages\\torch\\nn\\modules\\module.py:2441: UserWarning: for layer4.1.conv1.weight: copying from a non-meta parameter in the checkpoint to a meta parameter in the current model, which is a no-op. (Did you mean to pass `assign=True` to assign items in the state dictionary to their corresponding key in the module instead of copying them in place?)\n",
      "  warnings.warn(\n",
      "d:\\miniconda3\\envs\\master-thesis\\Lib\\site-packages\\torch\\nn\\modules\\module.py:2441: UserWarning: for layer4.1.bn1.weight: copying from a non-meta parameter in the checkpoint to a meta parameter in the current model, which is a no-op. (Did you mean to pass `assign=True` to assign items in the state dictionary to their corresponding key in the module instead of copying them in place?)\n",
      "  warnings.warn(\n",
      "d:\\miniconda3\\envs\\master-thesis\\Lib\\site-packages\\torch\\nn\\modules\\module.py:2441: UserWarning: for layer4.1.bn1.bias: copying from a non-meta parameter in the checkpoint to a meta parameter in the current model, which is a no-op. (Did you mean to pass `assign=True` to assign items in the state dictionary to their corresponding key in the module instead of copying them in place?)\n",
      "  warnings.warn(\n",
      "d:\\miniconda3\\envs\\master-thesis\\Lib\\site-packages\\torch\\nn\\modules\\module.py:2441: UserWarning: for layer4.1.conv2.weight: copying from a non-meta parameter in the checkpoint to a meta parameter in the current model, which is a no-op. (Did you mean to pass `assign=True` to assign items in the state dictionary to their corresponding key in the module instead of copying them in place?)\n",
      "  warnings.warn(\n",
      "d:\\miniconda3\\envs\\master-thesis\\Lib\\site-packages\\torch\\nn\\modules\\module.py:2441: UserWarning: for layer4.1.bn2.weight: copying from a non-meta parameter in the checkpoint to a meta parameter in the current model, which is a no-op. (Did you mean to pass `assign=True` to assign items in the state dictionary to their corresponding key in the module instead of copying them in place?)\n",
      "  warnings.warn(\n",
      "d:\\miniconda3\\envs\\master-thesis\\Lib\\site-packages\\torch\\nn\\modules\\module.py:2441: UserWarning: for layer4.1.bn2.bias: copying from a non-meta parameter in the checkpoint to a meta parameter in the current model, which is a no-op. (Did you mean to pass `assign=True` to assign items in the state dictionary to their corresponding key in the module instead of copying them in place?)\n",
      "  warnings.warn(\n",
      "d:\\miniconda3\\envs\\master-thesis\\Lib\\site-packages\\torch\\nn\\modules\\module.py:2441: UserWarning: for layer4.1.conv3.weight: copying from a non-meta parameter in the checkpoint to a meta parameter in the current model, which is a no-op. (Did you mean to pass `assign=True` to assign items in the state dictionary to their corresponding key in the module instead of copying them in place?)\n",
      "  warnings.warn(\n",
      "d:\\miniconda3\\envs\\master-thesis\\Lib\\site-packages\\torch\\nn\\modules\\module.py:2441: UserWarning: for layer4.1.bn3.weight: copying from a non-meta parameter in the checkpoint to a meta parameter in the current model, which is a no-op. (Did you mean to pass `assign=True` to assign items in the state dictionary to their corresponding key in the module instead of copying them in place?)\n",
      "  warnings.warn(\n",
      "d:\\miniconda3\\envs\\master-thesis\\Lib\\site-packages\\torch\\nn\\modules\\module.py:2441: UserWarning: for layer4.1.bn3.bias: copying from a non-meta parameter in the checkpoint to a meta parameter in the current model, which is a no-op. (Did you mean to pass `assign=True` to assign items in the state dictionary to their corresponding key in the module instead of copying them in place?)\n",
      "  warnings.warn(\n",
      "d:\\miniconda3\\envs\\master-thesis\\Lib\\site-packages\\torch\\nn\\modules\\module.py:2441: UserWarning: for layer4.2.conv1.weight: copying from a non-meta parameter in the checkpoint to a meta parameter in the current model, which is a no-op. (Did you mean to pass `assign=True` to assign items in the state dictionary to their corresponding key in the module instead of copying them in place?)\n",
      "  warnings.warn(\n",
      "d:\\miniconda3\\envs\\master-thesis\\Lib\\site-packages\\torch\\nn\\modules\\module.py:2441: UserWarning: for layer4.2.bn1.weight: copying from a non-meta parameter in the checkpoint to a meta parameter in the current model, which is a no-op. (Did you mean to pass `assign=True` to assign items in the state dictionary to their corresponding key in the module instead of copying them in place?)\n",
      "  warnings.warn(\n",
      "d:\\miniconda3\\envs\\master-thesis\\Lib\\site-packages\\torch\\nn\\modules\\module.py:2441: UserWarning: for layer4.2.bn1.bias: copying from a non-meta parameter in the checkpoint to a meta parameter in the current model, which is a no-op. (Did you mean to pass `assign=True` to assign items in the state dictionary to their corresponding key in the module instead of copying them in place?)\n",
      "  warnings.warn(\n",
      "d:\\miniconda3\\envs\\master-thesis\\Lib\\site-packages\\torch\\nn\\modules\\module.py:2441: UserWarning: for layer4.2.conv2.weight: copying from a non-meta parameter in the checkpoint to a meta parameter in the current model, which is a no-op. (Did you mean to pass `assign=True` to assign items in the state dictionary to their corresponding key in the module instead of copying them in place?)\n",
      "  warnings.warn(\n",
      "d:\\miniconda3\\envs\\master-thesis\\Lib\\site-packages\\torch\\nn\\modules\\module.py:2441: UserWarning: for layer4.2.bn2.weight: copying from a non-meta parameter in the checkpoint to a meta parameter in the current model, which is a no-op. (Did you mean to pass `assign=True` to assign items in the state dictionary to their corresponding key in the module instead of copying them in place?)\n",
      "  warnings.warn(\n",
      "d:\\miniconda3\\envs\\master-thesis\\Lib\\site-packages\\torch\\nn\\modules\\module.py:2441: UserWarning: for layer4.2.bn2.bias: copying from a non-meta parameter in the checkpoint to a meta parameter in the current model, which is a no-op. (Did you mean to pass `assign=True` to assign items in the state dictionary to their corresponding key in the module instead of copying them in place?)\n",
      "  warnings.warn(\n",
      "d:\\miniconda3\\envs\\master-thesis\\Lib\\site-packages\\torch\\nn\\modules\\module.py:2441: UserWarning: for layer4.2.conv3.weight: copying from a non-meta parameter in the checkpoint to a meta parameter in the current model, which is a no-op. (Did you mean to pass `assign=True` to assign items in the state dictionary to their corresponding key in the module instead of copying them in place?)\n",
      "  warnings.warn(\n",
      "d:\\miniconda3\\envs\\master-thesis\\Lib\\site-packages\\torch\\nn\\modules\\module.py:2441: UserWarning: for layer4.2.bn3.weight: copying from a non-meta parameter in the checkpoint to a meta parameter in the current model, which is a no-op. (Did you mean to pass `assign=True` to assign items in the state dictionary to their corresponding key in the module instead of copying them in place?)\n",
      "  warnings.warn(\n",
      "d:\\miniconda3\\envs\\master-thesis\\Lib\\site-packages\\torch\\nn\\modules\\module.py:2441: UserWarning: for layer4.2.bn3.bias: copying from a non-meta parameter in the checkpoint to a meta parameter in the current model, which is a no-op. (Did you mean to pass `assign=True` to assign items in the state dictionary to their corresponding key in the module instead of copying them in place?)\n",
      "  warnings.warn(\n"
     ]
    }
   ],
   "source": [
    "# Load model from directory:\n",
    "from transformers import AutoModel\n",
    "\n",
    "model = (\n",
    "    AutoModel.from_pretrained(\"../models/magi_model\", trust_remote_code=True)\n",
    "    .cuda()\n",
    "    .eval()\n",
    ");"
   ]
  },
  {
   "cell_type": "code",
   "execution_count": null,
   "metadata": {
    "trusted": true
   },
   "outputs": [],
   "source": [
    "####################### OR ###########################\n",
    "# Cache model to directory:\n",
    "# model_1 = AutoModel.from_pretrained(\"ragavsachdeva/magiv2\", cache_dir=\"./magi_saved_model_directory/\", trust_remote_code=True).cuda().eval()"
   ]
  },
  {
   "cell_type": "markdown",
   "metadata": {},
   "source": [
    "# Code"
   ]
  },
  {
   "cell_type": "markdown",
   "metadata": {},
   "source": [
    "# Define data/result directory"
   ]
  },
  {
   "cell_type": "code",
   "execution_count": null,
   "metadata": {},
   "outputs": [],
   "source": [
    "import os\n",
    "\n",
    "data_folder = \"../data\"\n",
    "result_folder = \"../results\"\n",
    "manga_list = \"vi/Ruri Dragon (Oneshot)/Ch. None\"  # Will be changed to list later\n",
    "\n",
    "# Ruri Dragon\n",
    "manga_folder = os.path.join(data_folder, manga_list)\n",
    "character_folder = os.path.join(data_folder, \"mock_blank_character\")\n",
    "\n",
    "individual_result_folder = os.path.join(result_folder, manga_list)\n",
    "json_output_dir = os.path.join(individual_result_folder, \"json_results\")\n",
    "result_image_output_dir = os.path.join(individual_result_folder, \"image_results\")\n",
    "transcript_output_dir = os.path.join(individual_result_folder, \"transcript.txt\")\n",
    "os.makedirs(json_output_dir, exist_ok=True)  # Create the directory if it doesn't exist\n",
    "os.makedirs(\n",
    "    result_image_output_dir, exist_ok=True\n",
    ")  # Create the directory if it doesn't exist"
   ]
  },
  {
   "cell_type": "markdown",
   "metadata": {},
   "source": [
    "## Create raw and character/names list"
   ]
  },
  {
   "cell_type": "code",
   "execution_count": 12,
   "metadata": {
    "execution": {
     "iopub.execute_input": "2025-08-23T01:40:45.216852Z",
     "iopub.status.busy": "2025-08-23T01:40:45.216528Z",
     "iopub.status.idle": "2025-08-23T01:40:45.226021Z",
     "shell.execute_reply": "2025-08-23T01:40:45.225266Z",
     "shell.execute_reply.started": "2025-08-23T01:40:45.216821Z"
    },
    "trusted": true
   },
   "outputs": [
    {
     "name": "stdout",
     "output_type": "stream",
     "text": [
      "Chapter Pages:\n",
      "['../data\\\\vi/Ruri Dragon (Oneshot)/Ch. None\\\\00.jpg', '../data\\\\vi/Ruri Dragon (Oneshot)/Ch. None\\\\01.jpg', '../data\\\\vi/Ruri Dragon (Oneshot)/Ch. None\\\\02.jpg', '../data\\\\vi/Ruri Dragon (Oneshot)/Ch. None\\\\03.jpg', '../data\\\\vi/Ruri Dragon (Oneshot)/Ch. None\\\\04.jpg', '../data\\\\vi/Ruri Dragon (Oneshot)/Ch. None\\\\05.jpg', '../data\\\\vi/Ruri Dragon (Oneshot)/Ch. None\\\\06.jpg', '../data\\\\vi/Ruri Dragon (Oneshot)/Ch. None\\\\07.jpg', '../data\\\\vi/Ruri Dragon (Oneshot)/Ch. None\\\\08.jpg', '../data\\\\vi/Ruri Dragon (Oneshot)/Ch. None\\\\09.jpg', '../data\\\\vi/Ruri Dragon (Oneshot)/Ch. None\\\\10.jpg', '../data\\\\vi/Ruri Dragon (Oneshot)/Ch. None\\\\11.jpg', '../data\\\\vi/Ruri Dragon (Oneshot)/Ch. None\\\\12.jpg', '../data\\\\vi/Ruri Dragon (Oneshot)/Ch. None\\\\13.jpg', '../data\\\\vi/Ruri Dragon (Oneshot)/Ch. None\\\\14.jpg', '../data\\\\vi/Ruri Dragon (Oneshot)/Ch. None\\\\15.jpg', '../data\\\\vi/Ruri Dragon (Oneshot)/Ch. None\\\\16.jpg', '../data\\\\vi/Ruri Dragon (Oneshot)/Ch. None\\\\17.jpg', '../data\\\\vi/Ruri Dragon (Oneshot)/Ch. None\\\\18.jpg', '../data\\\\vi/Ruri Dragon (Oneshot)/Ch. None\\\\19.jpg', '../data\\\\vi/Ruri Dragon (Oneshot)/Ch. None\\\\20.jpg', '../data\\\\vi/Ruri Dragon (Oneshot)/Ch. None\\\\21.jpg', '../data\\\\vi/Ruri Dragon (Oneshot)/Ch. None\\\\22.jpg', '../data\\\\vi/Ruri Dragon (Oneshot)/Ch. None\\\\23.jpg', '../data\\\\vi/Ruri Dragon (Oneshot)/Ch. None\\\\24.jpg', '../data\\\\vi/Ruri Dragon (Oneshot)/Ch. None\\\\25.jpg', '../data\\\\vi/Ruri Dragon (Oneshot)/Ch. None\\\\26.jpg', '../data\\\\vi/Ruri Dragon (Oneshot)/Ch. None\\\\27.jpg', '../data\\\\vi/Ruri Dragon (Oneshot)/Ch. None\\\\28.jpg', '../data\\\\vi/Ruri Dragon (Oneshot)/Ch. None\\\\29.jpg', '../data\\\\vi/Ruri Dragon (Oneshot)/Ch. None\\\\30.jpg', '../data\\\\vi/Ruri Dragon (Oneshot)/Ch. None\\\\31.jpg', '../data\\\\vi/Ruri Dragon (Oneshot)/Ch. None\\\\32.jpg', '../data\\\\vi/Ruri Dragon (Oneshot)/Ch. None\\\\33.jpg', '../data\\\\vi/Ruri Dragon (Oneshot)/Ch. None\\\\34.jpg', '../data\\\\vi/Ruri Dragon (Oneshot)/Ch. None\\\\35.jpg', '../data\\\\vi/Ruri Dragon (Oneshot)/Ch. None\\\\36.jpg', '../data\\\\vi/Ruri Dragon (Oneshot)/Ch. None\\\\37.jpg', '../data\\\\vi/Ruri Dragon (Oneshot)/Ch. None\\\\38.jpg', '../data\\\\vi/Ruri Dragon (Oneshot)/Ch. None\\\\39.jpg', '../data\\\\vi/Ruri Dragon (Oneshot)/Ch. None\\\\40.jpg', '../data\\\\vi/Ruri Dragon (Oneshot)/Ch. None\\\\41.jpg', '../data\\\\vi/Ruri Dragon (Oneshot)/Ch. None\\\\42.jpg', '../data\\\\vi/Ruri Dragon (Oneshot)/Ch. None\\\\43.jpg', '../data\\\\vi/Ruri Dragon (Oneshot)/Ch. None\\\\44.jpg']\n",
      "\n",
      "Character Bank:\n",
      "{'images': [], 'names': []}\n"
     ]
    }
   ],
   "source": [
    "import os\n",
    "import re\n",
    "\n",
    "\n",
    "def create_chapter_pages_and_character_bank(manga_folder, character_folder):\n",
    "    # Create lists for chapter pages and character bank\n",
    "    chapter_pages = []\n",
    "    character_bank = {\"images\": [], \"names\": []}\n",
    "\n",
    "    #     Iterate through manga images to create chapter_pages\n",
    "    for image_file in os.listdir(manga_folder):\n",
    "        if image_file.endswith(\n",
    "            (\".png\", \".jpg\", \".jpeg\")\n",
    "        ):  # Check for image file extensions\n",
    "            # Extract the page number using regex\n",
    "            match = re.search(r\"p(\\d+)\", image_file)\n",
    "            if match:\n",
    "                page_number = int(match.group(1))  # Convert to integer for sorting\n",
    "                chapter_pages.append(\n",
    "                    (page_number, image_file)\n",
    "                )  # Store as tuple (page_number, image_file)\n",
    "            else:\n",
    "                page_number = image_file.rsplit(\".\", 1)[0]\n",
    "                chapter_pages.append(\n",
    "                    (page_number, image_file)\n",
    "                )  # Store as tuple (page_number, image_file)\n",
    "\n",
    "    # Sort chapter pages by page number\n",
    "    chapter_pages.sort(key=lambda x: x[0])\n",
    "    chapter_pages = [\n",
    "        os.path.join(manga_folder, img[1]) for img in chapter_pages\n",
    "    ]  # Extract just the filenames after sorting\n",
    "\n",
    "    # Iterate through character images to create character bank\n",
    "    for char_image_file in os.listdir(character_folder):\n",
    "        if char_image_file.endswith(\n",
    "            (\".png\", \".jpg\", \".jpeg\")\n",
    "        ):  # Check for image file extensions\n",
    "            # Split the filename to extract character name\n",
    "            char_name = char_image_file.split(\"_\")[\n",
    "                0\n",
    "            ]  # Get the part before the underscore\n",
    "            character_bank[\"images\"].append(\n",
    "                os.path.join(character_folder, char_image_file)\n",
    "            )\n",
    "            character_bank[\"names\"].append(char_name)\n",
    "    return chapter_pages, character_bank\n",
    "\n",
    "\n",
    "# Get chapter pages and character bank\n",
    "chapter_pages_original, character_bank_original = (\n",
    "    create_chapter_pages_and_character_bank(manga_folder, character_folder)\n",
    ")\n",
    "\n",
    "chapter_pages_test = chapter_pages_original[:]\n",
    "character_bank_test = character_bank_original\n",
    "\n",
    "# Print the results (for debugging)\n",
    "print(\"Chapter Pages:\")\n",
    "print(chapter_pages_test)\n",
    "\n",
    "print(\"\\nCharacter Bank:\")\n",
    "print(character_bank_test)"
   ]
  },
  {
   "cell_type": "markdown",
   "metadata": {},
   "source": [
    "## Process (OCR → Transcript)"
   ]
  },
  {
   "cell_type": "code",
   "execution_count": 14,
   "metadata": {
    "execution": {
     "iopub.execute_input": "2025-08-23T01:40:56.359264Z",
     "iopub.status.busy": "2025-08-23T01:40:56.358555Z",
     "iopub.status.idle": "2025-08-23T01:43:08.673006Z",
     "shell.execute_reply": "2025-08-23T01:43:08.672339Z",
     "shell.execute_reply.started": "2025-08-23T01:40:56.359238Z"
    },
    "trusted": true
   },
   "outputs": [
    {
     "name": "stderr",
     "output_type": "stream",
     "text": [
      "100%|██████████| 6/6 [00:11<00:00,  1.95s/it]\n",
      "100%|██████████| 14/14 [02:28<00:00, 10.63s/it]"
     ]
    },
    {
     "name": "stdout",
     "output_type": "stream",
     "text": [
      "Continue with next cell\n"
     ]
    },
    {
     "name": "stderr",
     "output_type": "stream",
     "text": [
      "\n"
     ]
    }
   ],
   "source": [
    "import os\n",
    "import json\n",
    "from PIL import Image\n",
    "import numpy as np\n",
    "\n",
    "\n",
    "def read_image(path_to_image):\n",
    "    with open(path_to_image, \"rb\") as file:\n",
    "        image = Image.open(file).convert(\"L\").convert(\"RGB\")\n",
    "        image = np.array(image)\n",
    "    return image\n",
    "\n",
    "\n",
    "chapter_pages = [read_image(x) for x in chapter_pages_test]\n",
    "character_bank = character_bank_test.copy()\n",
    "character_bank[\"images\"] = [read_image(x) for x in character_bank_test[\"images\"]]\n",
    "\n",
    "with torch.no_grad():\n",
    "    per_page_results = model.do_chapter_wide_prediction(\n",
    "        chapter_pages, character_bank, use_tqdm=True, do_ocr=True\n",
    "    )\n",
    "\n",
    "print(\"Continue with next cell\")"
   ]
  },
  {
   "cell_type": "markdown",
   "metadata": {},
   "source": [
    "## Save transcript"
   ]
  },
  {
   "cell_type": "code",
   "execution_count": 15,
   "metadata": {
    "execution": {
     "iopub.execute_input": "2025-08-23T01:46:31.329354Z",
     "iopub.status.busy": "2025-08-23T01:46:31.329013Z",
     "iopub.status.idle": "2025-08-23T01:46:52.702355Z",
     "shell.execute_reply": "2025-08-23T01:46:52.701490Z",
     "shell.execute_reply.started": "2025-08-23T01:46:31.329333Z"
    },
    "trusted": true
   },
   "outputs": [
    {
     "name": "stdout",
     "output_type": "stream",
     "text": [
      "\n",
      "\n",
      "Done you WEEEEB!\n"
     ]
    }
   ],
   "source": [
    "transcript = []\n",
    "for i, (image, page_result) in enumerate(zip(chapter_pages, per_page_results)):\n",
    "    image_name_ext = os.path.basename(chapter_pages_test[i])\n",
    "    # Split the image name and its extension\n",
    "    image_name, image_extension = os.path.splitext(image_name_ext)\n",
    "\n",
    "    model.visualise_single_image_prediction(\n",
    "        image, page_result, os.path.join(result_image_output_dir, f\"{image_name}.png\")\n",
    "    )\n",
    "    # Save page_result to JSON\n",
    "    json_file_path = os.path.join(\n",
    "        json_output_dir, f\"{image_name}.json\"\n",
    "    )  # Create full file path\n",
    "    with open(json_file_path, \"w\") as json_file:\n",
    "        json.dump(page_result, json_file, indent=4)  # Save with pretty printing\n",
    "\n",
    "    speaker_name = {\n",
    "        text_idx: page_result[\"character_names\"][char_idx]\n",
    "        for text_idx, char_idx in page_result[\"text_character_associations\"]\n",
    "    }\n",
    "\n",
    "    transcript.append(f\"<page>{i:03}<endpage>\")\n",
    "    for j in range(len(page_result[\"ocr\"])):\n",
    "        if not page_result[\"is_essential_text\"][j]:\n",
    "            continue\n",
    "        name = speaker_name.get(j, \"unsure\")\n",
    "        transcript.append(f\"<name>{name}<endname>: {page_result['ocr'][j]}\")\n",
    "\n",
    "with open(transcript_output_dir, \"w\") as fh:\n",
    "    for line in transcript:\n",
    "        fh.write(line + \"\\n\")\n",
    "\n",
    "print(\"\\n\\nDone you WEEEEB!\")"
   ]
  },
  {
   "cell_type": "markdown",
   "metadata": {},
   "source": [
    "# Zip file (For kaggle only)"
   ]
  },
  {
   "cell_type": "markdown",
   "metadata": {},
   "source": [
    "## Legacy"
   ]
  },
  {
   "cell_type": "code",
   "execution_count": null,
   "metadata": {
    "execution": {
     "iopub.execute_input": "2024-10-23T18:01:10.616973Z",
     "iopub.status.busy": "2024-10-23T18:01:10.616134Z",
     "iopub.status.idle": "2024-10-23T18:01:10.626962Z",
     "shell.execute_reply": "2024-10-23T18:01:10.625951Z",
     "shell.execute_reply.started": "2024-10-23T18:01:10.616935Z"
    },
    "trusted": true
   },
   "outputs": [],
   "source": [
    "# json_output_dir = \"/kaggle/working/json_results\"\n",
    "# result_image_output_dir = \"/kaggle/working/image_results\"\n",
    "\n",
    "# # zip\n",
    "# json_output_dir = \"/kaggle/working/json_results\"\n",
    "# !zip -rj /kaggle/working/json.zip {json_output_dir}/*.json\n",
    "# # download\n",
    "# !cd /kaggle/working/\n",
    "# display(FileLink('json.zip'))"
   ]
  },
  {
   "cell_type": "markdown",
   "metadata": {},
   "source": [
    "## Download separate files"
   ]
  },
  {
   "cell_type": "markdown",
   "metadata": {},
   "source": [
    "### Download json"
   ]
  },
  {
   "cell_type": "code",
   "execution_count": 34,
   "metadata": {
    "execution": {
     "iopub.execute_input": "2025-08-23T01:38:28.480530Z",
     "iopub.status.busy": "2025-08-23T01:38:28.479930Z",
     "iopub.status.idle": "2025-08-23T01:38:28.501657Z",
     "shell.execute_reply": "2025-08-23T01:38:28.500913Z",
     "shell.execute_reply.started": "2025-08-23T01:38:28.480508Z"
    },
    "trusted": true
   },
   "outputs": [
    {
     "data": {
      "text/html": [
       "<a href='json_results.zip' target='_blank'>json_results.zip</a><br>"
      ],
      "text/plain": [
       "/kaggle/working/json_results.zip"
      ]
     },
     "metadata": {},
     "output_type": "display_data"
    }
   ],
   "source": [
    "import os\n",
    "import subprocess\n",
    "from IPython.display import FileLink, display\n",
    "\n",
    "\n",
    "def download_file(download_file_name, source_path):\n",
    "    os.chdir(\"/kaggle/working/\")\n",
    "    zip_name = f\"/kaggle/working/{download_file_name}.zip\"\n",
    "    command = f\"zip -rj {zip_name} {source_path}\"\n",
    "    result = subprocess.run(command, shell=True, capture_output=True, text=True)\n",
    "    if result.returncode != 0:\n",
    "        print(\"Unable to run zip command!\")\n",
    "        print(result.stderr)\n",
    "        return\n",
    "    display(FileLink(f\"{download_file_name}.zip\"))\n",
    "\n",
    "\n",
    "download_file(\"json_results\", f\"{json_output_dir}/*.json\")"
   ]
  },
  {
   "cell_type": "markdown",
   "metadata": {},
   "source": [
    "### Download image results"
   ]
  },
  {
   "cell_type": "code",
   "execution_count": 33,
   "metadata": {
    "execution": {
     "iopub.execute_input": "2025-08-23T01:37:24.521892Z",
     "iopub.status.busy": "2025-08-23T01:37:24.521604Z",
     "iopub.status.idle": "2025-08-23T01:37:25.488729Z",
     "shell.execute_reply": "2025-08-23T01:37:25.487924Z",
     "shell.execute_reply.started": "2025-08-23T01:37:24.521872Z"
    },
    "trusted": true
   },
   "outputs": [
    {
     "data": {
      "text/html": [
       "<a href='image_results.zip' target='_blank'>image_results.zip</a><br>"
      ],
      "text/plain": [
       "/kaggle/working/image_results.zip"
      ]
     },
     "metadata": {},
     "output_type": "display_data"
    }
   ],
   "source": [
    "import os\n",
    "import subprocess\n",
    "from IPython.display import FileLink, display\n",
    "\n",
    "\n",
    "def download_file(download_file_name, source_path):\n",
    "    os.chdir(\"/kaggle/working/\")\n",
    "    zip_name = f\"/kaggle/working/{download_file_name}.zip\"\n",
    "    command = f\"zip -rj {zip_name} {source_path}\"\n",
    "    result = subprocess.run(command, shell=True, capture_output=True, text=True)\n",
    "    if result.returncode != 0:\n",
    "        print(\"Unable to run zip command!\")\n",
    "        print(result.stderr)\n",
    "        return\n",
    "    display(FileLink(f\"{download_file_name}.zip\"))\n",
    "\n",
    "\n",
    "download_file(\"image_results\", result_image_output_dir)"
   ]
  },
  {
   "cell_type": "markdown",
   "metadata": {},
   "source": [
    "### Download transcript"
   ]
  },
  {
   "cell_type": "code",
   "execution_count": 35,
   "metadata": {
    "execution": {
     "iopub.execute_input": "2025-08-23T01:38:56.348896Z",
     "iopub.status.busy": "2025-08-23T01:38:56.348194Z",
     "iopub.status.idle": "2025-08-23T01:38:56.359207Z",
     "shell.execute_reply": "2025-08-23T01:38:56.358594Z",
     "shell.execute_reply.started": "2025-08-23T01:38:56.348875Z"
    },
    "trusted": true
   },
   "outputs": [
    {
     "data": {
      "text/html": [
       "<a href='transcript.zip' target='_blank'>transcript.zip</a><br>"
      ],
      "text/plain": [
       "/kaggle/working/transcript.zip"
      ]
     },
     "metadata": {},
     "output_type": "display_data"
    }
   ],
   "source": [
    "import os\n",
    "import subprocess\n",
    "from IPython.display import FileLink, display\n",
    "\n",
    "\n",
    "def download_file(download_file_name, source_path):\n",
    "    os.chdir(\"/kaggle/working/\")\n",
    "    zip_name = f\"/kaggle/working/{download_file_name}.zip\"\n",
    "    command = f\"zip -rj {zip_name} {source_path}\"\n",
    "    result = subprocess.run(command, shell=True, capture_output=True, text=True)\n",
    "    if result.returncode != 0:\n",
    "        print(\"Unable to run zip command!\")\n",
    "        print(result.stderr)\n",
    "        return\n",
    "    display(FileLink(f\"{download_file_name}.zip\"))\n",
    "\n",
    "\n",
    "download_file(\"transcript\", \"/kaggle/working/result/transcript.txt\")"
   ]
  },
  {
   "cell_type": "markdown",
   "metadata": {},
   "source": [
    "## Download all"
   ]
  },
  {
   "cell_type": "code",
   "execution_count": 39,
   "metadata": {
    "execution": {
     "iopub.execute_input": "2025-08-23T01:47:03.567353Z",
     "iopub.status.busy": "2025-08-23T01:47:03.566730Z",
     "iopub.status.idle": "2025-08-23T01:47:04.643602Z",
     "shell.execute_reply": "2025-08-23T01:47:04.642873Z",
     "shell.execute_reply.started": "2025-08-23T01:47:03.567326Z"
    },
    "trusted": true
   },
   "outputs": [
    {
     "name": "stdout",
     "output_type": "stream",
     "text": [
      "cp: cannot stat 'result_dir': No such file or directory\n"
     ]
    },
    {
     "data": {
      "text/html": [
       "<a href='result.zip' target='_blank'>result.zip</a><br>"
      ],
      "text/plain": [
       "/kaggle/working/result.zip"
      ]
     },
     "metadata": {},
     "output_type": "display_data"
    }
   ],
   "source": [
    "import os\n",
    "import subprocess\n",
    "from IPython.display import FileLink, display\n",
    "\n",
    "\n",
    "def download_file(download_file_name, source_path):\n",
    "    os.chdir(\"/kaggle/working/\")\n",
    "    zip_name = f\"/kaggle/working/{download_file_name}.zip\"\n",
    "    command = f\"zip -r {zip_name} {source_path}\"\n",
    "    result = subprocess.run(command, shell=True, capture_output=True, text=True)\n",
    "    if result.returncode != 0:\n",
    "        print(\"Unable to run zip command!\")\n",
    "        print(result.stderr)\n",
    "        return\n",
    "    display(FileLink(f\"{download_file_name}.zip\"))\n",
    "\n",
    "\n",
    "!cp -r result_dir /\n",
    "download_file(\"result\", result_dir)"
   ]
  }
 ],
 "metadata": {
  "kaggle": {
   "accelerator": "gpu",
   "dataSources": [],
   "dockerImageVersionId": 31090,
   "isGpuEnabled": true,
   "isInternetEnabled": true,
   "language": "python",
   "sourceType": "notebook"
  },
  "kernelspec": {
   "display_name": "master-thesis",
   "language": "python",
   "name": "python3"
  },
  "language_info": {
   "codemirror_mode": {
    "name": "ipython",
    "version": 3
   },
   "file_extension": ".py",
   "mimetype": "text/x-python",
   "name": "python",
   "nbconvert_exporter": "python",
   "pygments_lexer": "ipython3",
   "version": "3.13.5"
  }
 },
 "nbformat": 4,
 "nbformat_minor": 4
}
