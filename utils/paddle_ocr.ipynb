{
 "cells": [
  {
   "cell_type": "markdown",
   "id": "c5349798",
   "metadata": {},
   "source": [
    "# Paddle check"
   ]
  },
  {
   "cell_type": "code",
   "execution_count": 1,
   "id": "152963dc",
   "metadata": {},
   "outputs": [
    {
     "name": "stderr",
     "output_type": "stream",
     "text": [
      "d:\\miniconda3\\envs\\paddleocr\\lib\\site-packages\\paddle\\utils\\cpp_extension\\extension_utils.py:718: UserWarning: No ccache found. Please be aware that recompiling all source files may be required. You can download and install ccache from: https://github.com/ccache/ccache/blob/master/doc/INSTALL.md\n",
      "  warnings.warn(warning_message)\n"
     ]
    },
    {
     "name": "stdout",
     "output_type": "stream",
     "text": [
      "Running verify PaddlePaddle program ... \n"
     ]
    },
    {
     "name": "stderr",
     "output_type": "stream",
     "text": [
      "d:\\miniconda3\\envs\\paddleocr\\lib\\site-packages\\paddle\\pir\\math_op_patch.py:219: UserWarning: Value do not have 'place' interface for pir graph mode, try not to use it. None will be returned.\n",
      "  warnings.warn(\n"
     ]
    },
    {
     "name": "stdout",
     "output_type": "stream",
     "text": [
      "PaddlePaddle works well on 1 GPU.\n",
      "PaddlePaddle is installed successfully! Let's start deep learning with PaddlePaddle now.\n"
     ]
    }
   ],
   "source": [
    "import paddle\n",
    "\n",
    "paddle.utils.run_check()"
   ]
  },
  {
   "cell_type": "markdown",
   "id": "37c026c4",
   "metadata": {},
   "source": [
    "# English PP-OCRv5"
   ]
  },
  {
   "cell_type": "markdown",
   "id": "3c32368f",
   "metadata": {},
   "source": [
    "### Load weight"
   ]
  },
  {
   "cell_type": "code",
   "execution_count": 1,
   "id": "fc7a0334",
   "metadata": {},
   "outputs": [
    {
     "name": "stderr",
     "output_type": "stream",
     "text": [
      "d:\\miniconda3\\envs\\paddleocr\\lib\\site-packages\\tqdm\\auto.py:21: TqdmWarning: IProgress not found. Please update jupyter and ipywidgets. See https://ipywidgets.readthedocs.io/en/stable/user_install.html\n",
      "  from .autonotebook import tqdm as notebook_tqdm\n",
      "C:\\Users\\azul\\AppData\\Local\\Temp\\ipykernel_22936\\3967144203.py:3: UserWarning: `lang` and `ocr_version` will be ignored when model names or model directories are not `None`.\n",
      "  ocr = PaddleOCR(\n",
      "d:\\miniconda3\\envs\\paddleocr\\lib\\site-packages\\paddle\\utils\\cpp_extension\\extension_utils.py:718: UserWarning: No ccache found. Please be aware that recompiling all source files may be required. You can download and install ccache from: https://github.com/ccache/ccache/blob/master/doc/INSTALL.md\n",
      "  warnings.warn(warning_message)\n",
      "\u001b[32mCreating model: ('PP-OCRv5_mobile_det', None)\u001b[0m\n",
      "\u001b[32mUsing official model (PP-OCRv5_mobile_det), the model files will be automatically downloaded and saved in C:\\Users\\azul\\.paddlex\\official_models.\u001b[0m\n",
      "Fetching 6 files: 100%|██████████| 6/6 [00:00<00:00, 329.58it/s]\n",
      "\u001b[32mCreating model: ('PP-OCRv5_server_rec', None)\u001b[0m\n",
      "\u001b[32mUsing official model (PP-OCRv5_server_rec), the model files will be automatically downloaded and saved in C:\\Users\\azul\\.paddlex\\official_models.\u001b[0m\n",
      "Fetching 6 files: 100%|██████████| 6/6 [00:20<00:00,  3.39s/it]\n"
     ]
    }
   ],
   "source": [
    "from paddleocr import PaddleOCR\n",
    "\n",
    "ocr = PaddleOCR(\n",
    "    text_detection_model_name=\"PP-OCRv5_mobile_det\",\n",
    "    # text_recognition_model_name=\"PP-OCRv3_server_det\",\n",
    "    text_recognition_model_name=\"PP-OCRv5_server_rec\",\n",
    "    # text_recognition_model_dir=\"../models/paddleocr/PP-OCRv5_server_rec_infer\",\n",
    "    use_doc_orientation_classify=False,  # Disables document orientation classification model via this parameter\n",
    "    use_doc_unwarping=False,  # Disables text image rectification model via this parameter\n",
    "    use_textline_orientation=False,  # Disables text line orientation classification model via this parameter\n",
    "    lang=\"en\",  # Uses English model by specifying language parameter\n",
    "    # ocr_version=\"PP-OCRv5\", # Uses PP-OCR models via version parameter\n",
    "    device=\"gpu\",  # Enables GPU acceleration for model inference via device parameter\n",
    ")"
   ]
  },
  {
   "cell_type": "markdown",
   "id": "e507c3d8",
   "metadata": {},
   "source": [
    "### Detect + Recognition"
   ]
  },
  {
   "cell_type": "code",
   "execution_count": 32,
   "id": "dd2f093e",
   "metadata": {},
   "outputs": [
    {
     "name": "stderr",
     "output_type": "stream",
     "text": [
      "\u001b[32m{'res': {'input_path': '../data/vi/test_data/multiple_line/04_001.png', 'page_index': None, 'model_settings': {'use_doc_preprocessor': True, 'use_textline_orientation': False}, 'doc_preprocessor_res': {'input_path': None, 'page_index': None, 'model_settings': {'use_doc_orientation_classify': False, 'use_doc_unwarping': False}, 'angle': -1}, 'dt_polys': array([[[ 22,   8],\n",
      "        ...,\n",
      "        [ 22,  46]],\n",
      "\n",
      "       ...,\n",
      "\n",
      "       [[ 37, 111],\n",
      "        ...,\n",
      "        [ 37, 153]]], dtype=int16), 'text_det_params': {'limit_side_len': 64, 'limit_type': 'min', 'thresh': 0.3, 'max_side_limit': 4000, 'box_thresh': 0.6, 'unclip_ratio': 1.5}, 'text_type': 'general', 'textline_orientation_angles': array([-1, ..., -1]), 'text_rec_score_thresh': 0.0, 'rec_texts': ['viCONLA', 'CON LAI GIA', 'NGUOI VA', 'RONG.'], 'rec_scores': array([0.79210585, ..., 0.9704169 ]), 'rec_polys': array([[[ 22,   8],\n",
      "        ...,\n",
      "        [ 22,  46]],\n",
      "\n",
      "       ...,\n",
      "\n",
      "       [[ 37, 111],\n",
      "        ...,\n",
      "        [ 37, 153]]], dtype=int16), 'rec_boxes': array([[ 22, ...,  46],\n",
      "       ...,\n",
      "       [ 37, ..., 153]], dtype=int16)}}\u001b[0m\n",
      "\u001b[32m{'res': {'input_path': '../data/vi/test_data/multiple_line/03_006.png', 'page_index': None, 'model_settings': {'use_doc_preprocessor': True, 'use_textline_orientation': False}, 'doc_preprocessor_res': {'input_path': None, 'page_index': None, 'model_settings': {'use_doc_orientation_classify': False, 'use_doc_unwarping': False}, 'angle': -1}, 'dt_polys': array([[[17,  5],\n",
      "        ...,\n",
      "        [17, 28]],\n",
      "\n",
      "       ...,\n",
      "\n",
      "       [[37, 67],\n",
      "        ...,\n",
      "        [37, 95]]], dtype=int16), 'text_det_params': {'limit_side_len': 64, 'limit_type': 'min', 'thresh': 0.3, 'max_side_limit': 4000, 'box_thresh': 0.6, 'unclip_ratio': 1.5}, 'text_type': 'general', 'textline_orientation_angles': array([-1, ..., -1]), 'text_rec_score_thresh': 0.0, 'rec_texts': ['U,TRONG', 'CON GIONG', 'HET BO CON', 'DAY.'], 'rec_scores': array([0.83667129, ..., 0.84329963]), 'rec_polys': array([[[17,  5],\n",
      "        ...,\n",
      "        [17, 28]],\n",
      "\n",
      "       ...,\n",
      "\n",
      "       [[37, 67],\n",
      "        ...,\n",
      "        [37, 95]]], dtype=int16), 'rec_boxes': array([[17, ..., 28],\n",
      "       ...,\n",
      "       [37, ..., 95]], dtype=int16)}}\u001b[0m\n",
      "\u001b[32m{'res': {'input_path': '../data/vi/test_data/multiple_line/vnexpress.png', 'page_index': None, 'model_settings': {'use_doc_preprocessor': True, 'use_textline_orientation': False}, 'doc_preprocessor_res': {'input_path': None, 'page_index': None, 'model_settings': {'use_doc_orientation_classify': False, 'use_doc_unwarping': False}, 'angle': -1}, 'dt_polys': array([[[ 25,  16],\n",
      "        ...,\n",
      "        [ 25,  50]],\n",
      "\n",
      "       ...,\n",
      "\n",
      "       [[ 25, 543],\n",
      "        ...,\n",
      "        [ 25, 575]]], dtype=int16), 'text_det_params': {'limit_side_len': 64, 'limit_type': 'min', 'thresh': 0.3, 'max_side_limit': 4000, 'box_thresh': 0.6, 'unclip_ratio': 1.5}, 'text_type': 'general', 'textline_orientation_angles': array([-1, ..., -1]), 'text_rec_score_thresh': 0.0, 'rec_texts': ['Mōt phàn nguyēn nhân khién My không nám dugc vu lsrael tâp kích lǎnh thó Qatar', 'là do tâp trung giám sát noi khác, theo quan chúc CeNTcom.', '\"Dòn tán công cúa lsrael nhǎm vào muc tiēu hamasò Qatar hoàn toàn khòng có', 'dáu hiēu hay cánh báo truóc, vì toàn bò phwong tiēn giám sát và su chú y cúa', 'chúng tôi dèu không nǎmò dó. không ai nghī ràng dièu này sě diēn ra\", tuóng', 'Derek France, chi huy lrc luong không quân thuôc Bô t lênh Trung tâm My', '(CENTCOM), cho biét hôm 24/9.', 'cEnTcoM là don vi dǎc trách toàn bô hoat dông cúa quân dôi My tai Trung Dòng.', 'Phát biéu dwgc tuóng France dua ra trong buói tháo luân vè hē quá cúa cuòc tāp', 'kích cúa lsrael nhàm vào thú dô Doha cúa Qatar hòi dàu tháng. Su viēc khién nhièu', 'nguòi dǎt câu hòi tai sao luói phòng khòng, cám bién tiēn tién cúa My và Qatar', 'khòng phát hiēn và dánh chǎn mói de doa.'], 'rec_scores': array([0.87619674, ..., 0.91536915]), 'rec_polys': array([[[ 25,  16],\n",
      "        ...,\n",
      "        [ 25,  50]],\n",
      "\n",
      "       ...,\n",
      "\n",
      "       [[ 25, 543],\n",
      "        ...,\n",
      "        [ 25, 575]]], dtype=int16), 'rec_boxes': array([[ 25, ...,  50],\n",
      "       ...,\n",
      "       [ 25, ..., 576]], dtype=int16)}}\u001b[0m\n"
     ]
    }
   ],
   "source": [
    "import os\n",
    "\n",
    "base_save_path = \"../results/paddleocr/output_v5\"\n",
    "test_image_list = [\n",
    "    \"../data/vi/test_data/multiple_line/04_001.png\",\n",
    "    \"../data/vi/test_data/multiple_line/03_006.png\",\n",
    "    \"../data/vi/test_data/multiple_line/vnexpress.png\",\n",
    "]\n",
    "\n",
    "for test_image_path in test_image_list:\n",
    "    base_name = os.path.basename(test_image_path).rsplit(\".\", 1)[0]\n",
    "    save_path = os.path.join(base_save_path, base_name)\n",
    "    result = ocr.predict(test_image_path)\n",
    "    for res in result:\n",
    "        res.print()\n",
    "        res.save_to_img(save_path)\n",
    "        res.save_to_json(save_path)"
   ]
  },
  {
   "cell_type": "code",
   "execution_count": null,
   "id": "a2e84539",
   "metadata": {},
   "outputs": [
    {
     "name": "stderr",
     "output_type": "stream",
     "text": [
      "INFO: Could not find files for the given pattern(s).\n",
      "D:\\miniconda3\\envs\\paddleocr\\lib\\site-packages\\paddle\\utils\\cpp_extension\\extension_utils.py:718: UserWarning: No ccache found. Please be aware that recompiling all source files may be required. You can download and install ccache from: https://github.com/ccache/ccache/blob/master/doc/INSTALL.md\n",
      "  warnings.warn(warning_message)\n",
      "Traceback (most recent call last):\n",
      "  File \"D:\\miniconda3\\envs\\paddleocr\\lib\\runpy.py\", line 196, in _run_module_as_main\n",
      "    return _run_code(code, main_globals, None,\n",
      "  File \"D:\\miniconda3\\envs\\paddleocr\\lib\\runpy.py\", line 86, in _run_code\n",
      "    exec(code, run_globals)\n",
      "  File \"D:\\miniconda3\\envs\\paddleocr\\Scripts\\paddleocr.exe\\__main__.py\", line 6, in <module>\n",
      "  File \"D:\\miniconda3\\envs\\paddleocr\\lib\\site-packages\\paddleocr\\__main__.py\", line 26, in console_entry\n",
      "    main()\n",
      "  File \"D:\\miniconda3\\envs\\paddleocr\\lib\\site-packages\\paddleocr\\_cli.py\", line 126, in main\n",
      "    _execute(args)\n",
      "  File \"D:\\miniconda3\\envs\\paddleocr\\lib\\site-packages\\paddleocr\\_cli.py\", line 115, in _execute\n",
      "    args.executor(args)\n",
      "  File \"D:\\miniconda3\\envs\\paddleocr\\lib\\site-packages\\paddleocr\\_pipelines\\ocr.py\", line 630, in execute_with_args\n",
      "    perform_simple_inference(PaddleOCR, params)\n",
      "  File \"D:\\miniconda3\\envs\\paddleocr\\lib\\site-packages\\paddleocr\\_utils\\cli.py\", line 62, in perform_simple_inference\n",
      "    wrapper = wrapper_cls(**init_params)\n",
      "  File \"D:\\miniconda3\\envs\\paddleocr\\lib\\site-packages\\paddleocr\\_pipelines\\ocr.py\", line 161, in __init__\n",
      "    super().__init__(**base_params)\n",
      "  File \"D:\\miniconda3\\envs\\paddleocr\\lib\\site-packages\\paddleocr\\_pipelines\\base.py\", line 66, in __init__\n",
      "    self.paddlex_pipeline = self._create_paddlex_pipeline()\n",
      "  File \"D:\\miniconda3\\envs\\paddleocr\\lib\\site-packages\\paddleocr\\_pipelines\\base.py\", line 99, in _create_paddlex_pipeline\n",
      "    kwargs = prepare_common_init_args(None, self._common_args)\n",
      "  File \"D:\\miniconda3\\envs\\paddleocr\\lib\\site-packages\\paddleocr\\_common_args.py\", line 61, in prepare_common_init_args\n",
      "    device = get_default_device()\n",
      "  File \"D:\\miniconda3\\envs\\paddleocr\\lib\\site-packages\\paddlex\\utils\\device.py\", line 42, in get_default_device\n",
      "    import paddle\n",
      "  File \"D:\\miniconda3\\envs\\paddleocr\\lib\\site-packages\\paddle\\__init__.py\", line 893, in <module>\n",
      "    raise err\n",
      "OSError: [WinError 127] 指定されたプロシージャが見つかりません。 Error loading \"D:\\miniconda3\\envs\\paddleocr\\lib\\site-packages\\paddle\\..\\nvidia\\cudnn\\bin\\cudnn_engines_precompiled64_9.dll\" or one of its dependencies.\n"
     ]
    }
   ],
   "source": [
    "# CLI command\n",
    "!paddleocr ocr -i ../data/vi/test_data/multiple_line/04_001.png \\\n",
    "    --text_detection_model_name PP-OCRv5_server_det \\\n",
    "    --text_recognition_model_name PP-OCRv5_server_rec \\\n",
    "    --use_doc_orientation_classify False \\\n",
    "    --use_doc_unwarping False \\\n",
    "    --use_textline_orientation True \\\n",
    "    --save_path ./output \\\n",
    "    --device gpu:0 "
   ]
  },
  {
   "cell_type": "markdown",
   "id": "352926a6",
   "metadata": {},
   "source": [
    "# Vietnamese OCR "
   ]
  },
  {
   "cell_type": "code",
   "execution_count": null,
   "id": "b8e9a207",
   "metadata": {},
   "outputs": [
    {
     "name": "stderr",
     "output_type": "stream",
     "text": [
      "\u001b[32mCreating model: ('PP-LCNet_x1_0_doc_ori', None)\u001b[0m\n",
      "\u001b[32mUsing official model (PP-LCNet_x1_0_doc_ori), the model files will be automatically downloaded and saved in C:\\Users\\azul\\.paddlex\\official_models.\u001b[0m\n",
      "Fetching 6 files: 100%|██████████| 6/6 [00:00<00:00, 1943.31it/s]\n",
      "\u001b[32mCreating model: ('UVDoc', None)\u001b[0m\n",
      "\u001b[32mUsing official model (UVDoc), the model files will be automatically downloaded and saved in C:\\Users\\azul\\.paddlex\\official_models.\u001b[0m\n",
      "Fetching 6 files: 100%|██████████| 6/6 [00:00<00:00, 1720.39it/s]\n",
      "\u001b[32mCreating model: ('PP-LCNet_x1_0_textline_ori', None)\u001b[0m\n",
      "\u001b[32mUsing official model (PP-LCNet_x1_0_textline_ori), the model files will be automatically downloaded and saved in C:\\Users\\azul\\.paddlex\\official_models.\u001b[0m\n",
      "Fetching 6 files: 100%|██████████| 6/6 [00:00<00:00, 2717.40it/s]\n",
      "\u001b[32mCreating model: ('PP-OCRv5_server_det', None)\u001b[0m\n",
      "\u001b[32mUsing official model (PP-OCRv5_server_det), the model files will be automatically downloaded and saved in C:\\Users\\azul\\.paddlex\\official_models.\u001b[0m\n",
      "Fetching 6 files: 100%|██████████| 6/6 [00:00<00:00, 1311.54it/s]\n",
      "\u001b[32mCreating model: ('latin_PP-OCRv5_mobile_rec', None)\u001b[0m\n",
      "\u001b[32mUsing official model (latin_PP-OCRv5_mobile_rec), the model files will be automatically downloaded and saved in C:\\Users\\azul\\.paddlex\\official_models.\u001b[0m\n"
     ]
    }
   ],
   "source": [
    "ocr_v5_vi = PaddleOCR(lang=\"vi\", ocr_version=\"PP-OCRv5\", device=\"gpu\")"
   ]
  },
  {
   "cell_type": "code",
   "execution_count": null,
   "id": "e770f678",
   "metadata": {},
   "outputs": [
    {
     "name": "stderr",
     "output_type": "stream",
     "text": [
      "\u001b[32m{'res': {'input_path': '../data/vi/test_data/multiple_line/04_001.png', 'page_index': None, 'model_settings': {'use_doc_preprocessor': True, 'use_textline_orientation': True}, 'doc_preprocessor_res': {'input_path': None, 'page_index': None, 'model_settings': {'use_doc_orientation_classify': True, 'use_doc_unwarping': True}, 'angle': 0}, 'dt_polys': array([[[ 21,   1],\n",
      "        ...,\n",
      "        [ 20,  41]],\n",
      "\n",
      "       ...,\n",
      "\n",
      "       [[ 34, 122],\n",
      "        ...,\n",
      "        [ 32, 160]]], dtype=int16), 'text_det_params': {'limit_side_len': 64, 'limit_type': 'min', 'thresh': 0.3, 'max_side_limit': 4000, 'box_thresh': 0.6, 'unclip_ratio': 1.5}, 'text_type': 'general', 'textline_orientation_angles': array([0, ..., 0]), 'text_rec_score_thresh': 0.0, 'rec_texts': ['Vì CON LÀ', 'CON LAI GIÑA', 'NGUIÒI VÀ', 'RÔNG.'], 'rec_scores': array([0.89353478, ..., 0.94720948]), 'rec_polys': array([[[ 21,   1],\n",
      "        ...,\n",
      "        [ 20,  41]],\n",
      "\n",
      "       ...,\n",
      "\n",
      "       [[ 34, 122],\n",
      "        ...,\n",
      "        [ 32, 160]]], dtype=int16), 'rec_boxes': array([[ 20, ...,  44],\n",
      "       ...,\n",
      "       [ 32, ..., 163]], dtype=int16)}}\u001b[0m\n",
      "\u001b[32m{'res': {'input_path': '../data/vi/test_data/multiple_line/03_006.png', 'page_index': None, 'model_settings': {'use_doc_preprocessor': True, 'use_textline_orientation': True}, 'doc_preprocessor_res': {'input_path': None, 'page_index': None, 'model_settings': {'use_doc_orientation_classify': True, 'use_doc_unwarping': True}, 'angle': 0}, 'dt_polys': array([[[13,  0],\n",
      "        ...,\n",
      "        [13, 26]],\n",
      "\n",
      "       ...,\n",
      "\n",
      "       [[37, 74],\n",
      "        ...,\n",
      "        [37, 99]]], dtype=int16), 'text_det_params': {'limit_side_len': 64, 'limit_type': 'min', 'thresh': 0.3, 'max_side_limit': 4000, 'box_thresh': 0.6, 'unclip_ratio': 1.5}, 'text_type': 'general', 'textline_orientation_angles': array([0, ..., 0]), 'text_rec_score_thresh': 0.0, 'rec_texts': ['Ù, TRÔNG', 'CON GIÔNG', 'HÊT BÔ CON', 'DÁy.'], 'rec_scores': array([0.94592243, ..., 0.90551054]), 'rec_polys': array([[[13,  0],\n",
      "        ...,\n",
      "        [13, 26]],\n",
      "\n",
      "       ...,\n",
      "\n",
      "       [[37, 74],\n",
      "        ...,\n",
      "        [37, 99]]], dtype=int16), 'rec_boxes': array([[13, ..., 26],\n",
      "       ...,\n",
      "       [37, ..., 99]], dtype=int16)}}\u001b[0m\n",
      "\u001b[32m{'res': {'input_path': '../data/vi/test_data/multiple_line/vnexpress.png', 'page_index': None, 'model_settings': {'use_doc_preprocessor': True, 'use_textline_orientation': True}, 'doc_preprocessor_res': {'input_path': None, 'page_index': None, 'model_settings': {'use_doc_orientation_classify': True, 'use_doc_unwarping': True}, 'angle': 0}, 'dt_polys': array([[[  5,   0],\n",
      "        ...,\n",
      "        [  5,  26]],\n",
      "\n",
      "       ...,\n",
      "\n",
      "       [[  0, 563],\n",
      "        ...,\n",
      "        [  0, 590]]], dtype=int16), 'text_det_params': {'limit_side_len': 64, 'limit_type': 'min', 'thresh': 0.3, 'max_side_limit': 4000, 'box_thresh': 0.6, 'unclip_ratio': 1.5}, 'text_type': 'general', 'textline_orientation_angles': array([0, ..., 0]), 'text_rec_score_thresh': 0.0, 'rec_texts': ['Môt phän nguyên', 'nhân', 'khiên', 'My', 'khöng', 'nm', 'dugc vu Israel tp kích lãnh thô Qatar', 'là do', 'tâp', 'trung', 'giám', 'sát', 't noi', 'khác,', 'theo', 'quan', 'chúc CENTCOM.', '\"Dòn tán', 'công', 'cúa', 'Israel', 'nhàm', 'vào', 'muc', 'tiêu', 'Hamas', 'ó', ' Qatar hoàn toàn không có', 'dáu hiu hay', 'cánh', 'báo', 'truóc,', 'vì', 'toàn', 'q', 'phuong', 'tin', 'giám sát và sy chú ý cúa', 'chúng tôi', 'dèu', 'không', 'nàm', 'ó', 'dó.', 'Không', 'nghã', 'ràng', 'ai', 'dièu', 'này', ' s din ra\", turóng', 'Derek France,', 'chí', 'huy', 'luc', 'luąng', 'không', 'quân', 'thuc', 'Bô', 'tu', 'lnh', 'Trung tâm My', '(CENTCOM),', 'cho', 'biét', 'hôm', '24/9.', 'CENTCOM là don ', 'vi', 'i dc trách toàn b hoat dng cúa quân di My tai Trung Dông', 'Phát biu duręc tuóng France dura ra trong buði tho lun vè h quà cūa cuc tp', 'kích', 'n ca Israel nhàm vào thù dô Doha ca Qatar hòi dàu tháng. Su vic khién nhi', 'nguòi dt cu hôi tai sao lurói phòng không, cm bién tiên tién ca My và Qatar', 'không phát hiên và dánh chn mói de doa'], 'rec_scores': array([0.93041444, ..., 0.97998941]), 'rec_polys': array([[[  5,   0],\n",
      "        ...,\n",
      "        [  5,  26]],\n",
      "\n",
      "       ...,\n",
      "\n",
      "       [[  0, 563],\n",
      "        ...,\n",
      "        [  0, 590]]], dtype=int16), 'rec_boxes': array([[  5, ...,  26],\n",
      "       ...,\n",
      "       [  0, ..., 590]], dtype=int16)}}\u001b[0m\n"
     ]
    }
   ],
   "source": [
    "import os\n",
    "\n",
    "base_save_path = \"../results/paddleocr/output_v5_vi\"\n",
    "test_image_list = [\n",
    "    \"../data/vi/test_data/multiple_line/04_001.png\",\n",
    "    \"../data/vi/test_data/multiple_line/03_006.png\",\n",
    "    \"../data/vi/test_data/multiple_line/vnexpress.png\",\n",
    "]\n",
    "\n",
    "for test_image_path in test_image_list:\n",
    "    base_name = os.path.basename(test_image_path).rsplit(\".\", 1)[0]\n",
    "    save_path = os.path.join(base_save_path, base_name)\n",
    "    result = ocr_v5_vi.predict(test_image_path)\n",
    "    for res in result:\n",
    "        res.print()\n",
    "        res.save_to_img(save_path)\n",
    "        res.save_to_json(save_path)"
   ]
  },
  {
   "cell_type": "markdown",
   "id": "ee46ce67",
   "metadata": {},
   "source": [
    "Trying V3"
   ]
  },
  {
   "cell_type": "code",
   "execution_count": 35,
   "id": "fd423dbb",
   "metadata": {},
   "outputs": [
    {
     "name": "stderr",
     "output_type": "stream",
     "text": [
      "\u001b[32mCreating model: ('PP-LCNet_x1_0_doc_ori', None)\u001b[0m\n",
      "\u001b[32mUsing official model (PP-LCNet_x1_0_doc_ori), the model files will be automatically downloaded and saved in C:\\Users\\azul\\.paddlex\\official_models.\u001b[0m\n",
      "Fetching 6 files: 100%|██████████| 6/6 [00:00<00:00, 1929.45it/s]\n",
      "\u001b[32mCreating model: ('UVDoc', None)\u001b[0m\n",
      "\u001b[32mUsing official model (UVDoc), the model files will be automatically downloaded and saved in C:\\Users\\azul\\.paddlex\\official_models.\u001b[0m\n",
      "Fetching 6 files: 100%|██████████| 6/6 [00:00<00:00, 1458.97it/s]\n",
      "\u001b[32mCreating model: ('PP-LCNet_x1_0_textline_ori', None)\u001b[0m\n",
      "\u001b[32mUsing official model (PP-LCNet_x1_0_textline_ori), the model files will be automatically downloaded and saved in C:\\Users\\azul\\.paddlex\\official_models.\u001b[0m\n",
      "Fetching 6 files: 100%|██████████| 6/6 [00:00<00:00, 3007.39it/s]\n",
      "\u001b[32mCreating model: ('PP-OCRv3_mobile_det', None)\u001b[0m\n",
      "\u001b[32mUsing official model (PP-OCRv3_mobile_det), the model files will be automatically downloaded and saved in C:\\Users\\azul\\.paddlex\\official_models.\u001b[0m\n",
      "Fetching 6 files: 100%|██████████| 6/6 [00:00<00:00, 298.85it/s]\n",
      "\u001b[32mCreating model: ('latin_PP-OCRv3_mobile_rec', None)\u001b[0m\n",
      "\u001b[32mUsing official model (latin_PP-OCRv3_mobile_rec), the model files will be automatically downloaded and saved in C:\\Users\\azul\\.paddlex\\official_models.\u001b[0m\n",
      "Fetching 6 files: 100%|██████████| 6/6 [00:00<00:00, 287.04it/s]\n"
     ]
    }
   ],
   "source": [
    "ocr_v3_vi = PaddleOCR(lang=\"vi\", ocr_version=\"PP-OCRv3\", device=\"gpu\")"
   ]
  },
  {
   "cell_type": "code",
   "execution_count": 36,
   "id": "ab125b31",
   "metadata": {},
   "outputs": [
    {
     "name": "stderr",
     "output_type": "stream",
     "text": [
      "\u001b[32m{'res': {'input_path': '../data/vi/test_data/multiple_line/04_001.png', 'page_index': None, 'model_settings': {'use_doc_preprocessor': True, 'use_textline_orientation': True}, 'doc_preprocessor_res': {'input_path': None, 'page_index': None, 'model_settings': {'use_doc_orientation_classify': True, 'use_doc_unwarping': True}, 'angle': 0}, 'dt_polys': array([[[ 23,   7],\n",
      "        ...,\n",
      "        [ 23,  41]],\n",
      "\n",
      "       ...,\n",
      "\n",
      "       [[ 37, 125],\n",
      "        ...,\n",
      "        [ 37, 161]]], dtype=int16), 'text_det_params': {'limit_side_len': 64, 'limit_type': 'min', 'thresh': 0.3, 'max_side_limit': 4000, 'box_thresh': 0.6, 'unclip_ratio': 1.5}, 'text_type': 'general', 'textline_orientation_angles': array([1, ..., 0]), 'text_rec_score_thresh': 0.0, 'rec_texts': ['YONOOIA', \"CON LAI GID'A\", 'NGUOIVA', 'RONG.'], 'rec_scores': array([0.49467209, ..., 0.9769603 ]), 'rec_polys': array([[[ 23,   7],\n",
      "        ...,\n",
      "        [ 23,  41]],\n",
      "\n",
      "       ...,\n",
      "\n",
      "       [[ 37, 125],\n",
      "        ...,\n",
      "        [ 37, 161]]], dtype=int16), 'rec_boxes': array([[ 23, ...,  41],\n",
      "       ...,\n",
      "       [ 37, ..., 161]], dtype=int16)}}\u001b[0m\n",
      "\u001b[32m{'res': {'input_path': '../data/vi/test_data/multiple_line/03_006.png', 'page_index': None, 'model_settings': {'use_doc_preprocessor': True, 'use_textline_orientation': True}, 'doc_preprocessor_res': {'input_path': None, 'page_index': None, 'model_settings': {'use_doc_orientation_classify': True, 'use_doc_unwarping': True}, 'angle': 0}, 'dt_polys': array([[[14,  4],\n",
      "        ...,\n",
      "        [14, 27]],\n",
      "\n",
      "       ...,\n",
      "\n",
      "       [[40, 78],\n",
      "        ...,\n",
      "        [40, 98]]], dtype=int16), 'text_det_params': {'limit_side_len': 64, 'limit_type': 'min', 'thresh': 0.3, 'max_side_limit': 4000, 'box_thresh': 0.6, 'unclip_ratio': 1.5}, 'text_type': 'general', 'textline_orientation_angles': array([0, ..., 0]), 'text_rec_score_thresh': 0.0, 'rec_texts': ['U,TRONG', 'CON GIONG', 'HET BO CON', 'DAY.'], 'rec_scores': array([0.84234798, ..., 0.87814116]), 'rec_polys': array([[[14,  4],\n",
      "        ...,\n",
      "        [14, 27]],\n",
      "\n",
      "       ...,\n",
      "\n",
      "       [[40, 78],\n",
      "        ...,\n",
      "        [40, 98]]], dtype=int16), 'rec_boxes': array([[14, ..., 27],\n",
      "       ...,\n",
      "       [40, ..., 98]], dtype=int16)}}\u001b[0m\n",
      "\u001b[32m{'res': {'input_path': '../data/vi/test_data/multiple_line/vnexpress.png', 'page_index': None, 'model_settings': {'use_doc_preprocessor': True, 'use_textline_orientation': True}, 'doc_preprocessor_res': {'input_path': None, 'page_index': None, 'model_settings': {'use_doc_orientation_classify': True, 'use_doc_unwarping': True}, 'angle': 0}, 'dt_polys': array([[[  5,  42],\n",
      "        ...,\n",
      "        [  5,  70]],\n",
      "\n",
      "       ...,\n",
      "\n",
      "       [[  8, 566],\n",
      "        ...,\n",
      "        [  8, 587]]], dtype=int16), 'text_det_params': {'limit_side_len': 64, 'limit_type': 'min', 'thresh': 0.3, 'max_side_limit': 4000, 'box_thresh': 0.6, 'unclip_ratio': 1.5}, 'text_type': 'general', 'textline_orientation_angles': array([0, ..., 0]), 'text_rec_score_thresh': 0.0, 'rec_texts': ['la do tap trung giäm sät noi khäc, theo quan churc CENTCOM.', 'n tán cöng cúa Israel nhám váo muc tiéu Hamas  Qatar hoán toan khng có', 'láu hiéu hay canh báo truóc, vi toan b phuong tién giám sát va su chü y cúa', 'húng ti áéu khng nám ö áó. Khng ai nghi ráng diéu náy sé diên ra\", tuóng', 'erek France, chi huy luc luong khöng quän thuöc Bö tu lénh Trung täm My', 'CENTCOM), cho biét hm 24/9.', 'CENTCOM la don vi dác trách toan b hoat dng cúa quán di My tai Trung öng', \"hát biéu dug'c tuóng France dua ra trong buói tháo luan vé hé quá cúa cuc tap\", '<ích cúa Israel nhám váo thü d Doha cúa Qatar hi dáu tháng. Su vic khién nhi', 'ngui áát cáu höi tai sao luói phng khng, cám bién tién tién cúa My vá Qatar', 'hng phat hien va danh chan mói ae doa'], 'rec_scores': array([0.93172425, ..., 0.86761349]), 'rec_polys': array([[[  5,  42],\n",
      "        ...,\n",
      "        [  5,  70]],\n",
      "\n",
      "       ...,\n",
      "\n",
      "       [[  8, 566],\n",
      "        ...,\n",
      "        [  8, 587]]], dtype=int16), 'rec_boxes': array([[  5, ...,  70],\n",
      "       ...,\n",
      "       [  8, ..., 587]], dtype=int16)}}\u001b[0m\n"
     ]
    }
   ],
   "source": [
    "import os\n",
    "\n",
    "base_save_path = \"../results/paddleocr/output_v3_vi\"\n",
    "test_image_list = [\n",
    "    \"../data/vi/test_data/multiple_line/04_001.png\",\n",
    "    \"../data/vi/test_data/multiple_line/03_006.png\",\n",
    "    \"../data/vi/test_data/multiple_line/vnexpress.png\",\n",
    "]\n",
    "\n",
    "for test_image_path in test_image_list:\n",
    "    base_name = os.path.basename(test_image_path).rsplit(\".\", 1)[0]\n",
    "    save_path = os.path.join(base_save_path, base_name)\n",
    "    result = ocr_v3_vi.predict(test_image_path)\n",
    "    for res in result:\n",
    "        res.print()\n",
    "        res.save_to_img(save_path)\n",
    "        res.save_to_json(save_path)"
   ]
  },
  {
   "cell_type": "markdown",
   "id": "06f3eb10",
   "metadata": {},
   "source": [
    "# Evaluate"
   ]
  },
  {
   "cell_type": "markdown",
   "id": "9651d07a",
   "metadata": {},
   "source": [
    "Individual test"
   ]
  },
  {
   "cell_type": "code",
   "execution_count": 43,
   "id": "44a8a715",
   "metadata": {},
   "outputs": [
    {
     "name": "stdout",
     "output_type": "stream",
     "text": [
      "output_v3_vi:\n",
      "03_006_res.json: U,TRONG CON GIONG HET BO CON DAY.\n",
      "04_001_res.json: YONOOIA CON LAI GID'A NGUOIVA RONG.\n",
      "vnexpress_res.json: la do tap trung giäm sät noi khäc, theo quan churc CENTCOM. n tán cöng cúa Israel nhám váo muc tiéu Hamas  Qatar hoán toan khng có láu hiéu hay canh báo truóc, vi toan b phuong tién giám sát va su chü y cúa húng ti áéu khng nám ö áó. Khng ai nghi ráng diéu náy sé diên ra\", tuóng erek France, chi huy luc luong khöng quän thuöc Bö tu lénh Trung täm My CENTCOM), cho biét hm 24/9. CENTCOM la don vi dác trách toan b hoat dng cúa quán di My tai Trung öng hát biéu dug'c tuóng France dua ra trong buói tháo luan vé hé quá cúa cuc tap <ích cúa Israel nhám váo thü d Doha cúa Qatar hi dáu tháng. Su vic khién nhi ngui áát cáu höi tai sao luói phng khng, cám bién tién tién cúa My vá Qatar hng phat hien va danh chan mói ae doa\n",
      "output_v5:\n",
      "03_006_res.json: U,TRONG CON GIONG HET BO CON DAY.\n",
      "04_001_res.json: viCONLA CON LAI GIA NGUOI VA RONG.\n",
      "vnexpress_res.json: Mōt phàn nguyēn nhân khién My không nám dugc vu lsrael tâp kích lǎnh thó Qatar là do tâp trung giám sát noi khác, theo quan chúc CeNTcom. \"Dòn tán công cúa lsrael nhǎm vào muc tiēu hamasò Qatar hoàn toàn khòng có dáu hiēu hay cánh báo truóc, vì toàn bò phwong tiēn giám sát và su chú y cúa chúng tôi dèu không nǎmò dó. không ai nghī ràng dièu này sě diēn ra\", tuóng Derek France, chi huy lrc luong không quân thuôc Bô t lênh Trung tâm My (CENTCOM), cho biét hôm 24/9. cEnTcoM là don vi dǎc trách toàn bô hoat dông cúa quân dôi My tai Trung Dòng. Phát biéu dwgc tuóng France dua ra trong buói tháo luân vè hē quá cúa cuòc tāp kích cúa lsrael nhàm vào thú dô Doha cúa Qatar hòi dàu tháng. Su viēc khién nhièu nguòi dǎt câu hòi tai sao luói phòng khòng, cám bién tiēn tién cúa My và Qatar khòng phát hiēn và dánh chǎn mói de doa.\n",
      "output_v5_vi:\n",
      "03_006_res.json: Ù, TRÔNG CON GIÔNG HÊT BÔ CON DÁy.\n",
      "04_001_res.json: Vì CON LÀ CON LAI GIÑA NGUIÒI VÀ RÔNG.\n",
      "vnexpress_res.json: Môt phän nguyên nhân khiên My khöng nm dugc vu Israel tp kích lãnh thô Qatar là do tâp trung giám sát t noi khác, theo quan chúc CENTCOM. \"Dòn tán công cúa Israel nhàm vào muc tiêu Hamas ó  Qatar hoàn toàn không có dáu hiu hay cánh báo truóc, vì toàn q phuong tin giám sát và sy chú ý cúa chúng tôi dèu không nàm ó dó. Không nghã ràng ai dièu này  s din ra\", turóng Derek France, chí huy luc luąng không quân thuc Bô tu lnh Trung tâm My (CENTCOM), cho biét hôm 24/9. CENTCOM là don  vi i dc trách toàn b hoat dng cúa quân di My tai Trung Dông Phát biu duręc tuóng France dura ra trong buði tho lun vè h quà cūa cuc tp kích n ca Israel nhàm vào thù dô Doha ca Qatar hòi dàu tháng. Su vic khién nhi nguòi dt cu hôi tai sao lurói phòng không, cm bién tiên tién ca My và Qatar không phát hiên và dánh chn mói de doa\n"
     ]
    }
   ],
   "source": [
    "import os\n",
    "import json\n",
    "\n",
    "\n",
    "def extract_texts_from_paddleocr(json_file):\n",
    "    with open(json_file, \"r\", encoding=\"utf-8\") as f:\n",
    "        data = json.load(f)\n",
    "    # \"rec_texts\" contains recognized strings\n",
    "    texts = data.get(\"rec_texts\", [])\n",
    "    return \" \".join(texts)\n",
    "\n",
    "\n",
    "result_dir = \"../results/paddleocr\"\n",
    "for folder in os.listdir(result_dir):\n",
    "    print(f\"{folder}:\")\n",
    "    folder_path = os.path.join(result_dir, folder)\n",
    "    for root, dirs, files in os.walk(folder_path):\n",
    "        for file in files:\n",
    "            if file.endswith(\"_res.json\"):\n",
    "                json_file = os.path.join(root, file)\n",
    "                texts = extract_texts_from_paddleocr(json_file)\n",
    "                print(f\"{file}: {texts}\")"
   ]
  }
 ],
 "metadata": {
  "kernelspec": {
   "display_name": "paddleocr",
   "language": "python",
   "name": "python3"
  },
  "language_info": {
   "codemirror_mode": {
    "name": "ipython",
    "version": 3
   },
   "file_extension": ".py",
   "mimetype": "text/x-python",
   "name": "python",
   "nbconvert_exporter": "python",
   "pygments_lexer": "ipython3",
   "version": "3.10.18"
  }
 },
 "nbformat": 4,
 "nbformat_minor": 5
}
